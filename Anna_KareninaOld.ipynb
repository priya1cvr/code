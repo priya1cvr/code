{
 "cells": [
  {
   "cell_type": "code",
   "execution_count": 1,
   "metadata": {
    "collapsed": false
   },
   "outputs": [],
   "source": [
    "## Organising the Imports \n",
    "import os \n",
    "import re \n",
    "import subprocess\n",
    "import numpy as np\n",
    "import pandas as pd\n",
    "import collections\n",
    "import logging\n",
    "import statistics \n",
    "import math"
   ]
  },
  {
   "cell_type": "code",
   "execution_count": 2,
   "metadata": {
    "collapsed": false
   },
   "outputs": [
    {
     "name": "stdout",
     "output_type": "stream",
     "text": [
      "/Users/pbishwal/Documents/Techie/others/Task_SC/book_scrambled.txt\n"
     ]
    }
   ],
   "source": [
    "basePath= os.path.dirname(os.getcwd())\n",
    "filePath=basePath+\"/Task_SC/book_scrambled.txt\"\n",
    "print(filePath)"
   ]
  },
  {
   "cell_type": "code",
   "execution_count": 3,
   "metadata": {
    "collapsed": false
   },
   "outputs": [],
   "source": [
    "cmd=\"\"\"grep -n \\\"Chapter [0-9]\\\" \"\"\" + filePath\n",
    "op=subprocess.check_output(cmd,shell=True)\n",
    "newop=op.decode(\"utf-8\").split(\"\\r\\n\")\n",
    "## the last 1 elements are removed as the decode above produces '' \n",
    "lineNumbersList=newop[: len(newop) - 1]"
   ]
  },
  {
   "cell_type": "code",
   "execution_count": 4,
   "metadata": {
    "collapsed": false
   },
   "outputs": [
    {
     "data": {
      "text/plain": [
       "{118: 'Chapter 961', 313: 'Chapter 2809'}"
      ]
     },
     "execution_count": 4,
     "metadata": {},
     "output_type": "execute_result"
    }
   ],
   "source": [
    "lineNumbersDict = {int(k.split(\":\")[0]) : k.split(\":\")[1] for k in lineNumbersList }\n",
    "first2pairs = {k: lineNumbersDict[k] for k in list(lineNumbersDict)[:2]}\n",
    "\n",
    "first2pairs    ## showing 1st 2 elements of dictionary"
   ]
  },
  {
   "cell_type": "code",
   "execution_count": 5,
   "metadata": {
    "collapsed": false
   },
   "outputs": [],
   "source": [
    "## get the lineNumbers that Contains Chapter XXXX \n",
    "lineNumbers = list(lineNumbersDict.keys())\n",
    "lineNumbers.sort()"
   ]
  },
  {
   "cell_type": "code",
   "execution_count": 6,
   "metadata": {
    "collapsed": false
   },
   "outputs": [],
   "source": [
    "## function to get list of prime numbers between 2 to 200, \n",
    "## assumption that max prime number squared present between 2-200\n",
    "\n",
    "def getPrimeNumbers():\n",
    "    start = 2 \n",
    "    end = 200\n",
    "    primeList=[]\n",
    "    for val in range(start, end + 1): \n",
    "        # If num is divisible by any number   \n",
    "        # between 2 and val, it is not prime  \n",
    "        if val > 1: \n",
    "            for n in range(2, val): \n",
    "                if (val % n) == 0: \n",
    "                    break\n",
    "            else: \n",
    "                primeList.append(val)\n",
    "    return primeList"
   ]
  },
  {
   "cell_type": "code",
   "execution_count": 7,
   "metadata": {
    "collapsed": false
   },
   "outputs": [],
   "source": [
    "primeList=getPrimeNumbers()"
   ]
  },
  {
   "cell_type": "code",
   "execution_count": 8,
   "metadata": {
    "collapsed": false
   },
   "outputs": [
    {
     "data": {
      "text/plain": [
       "(53.0, 31.0)"
      ]
     },
     "execution_count": 8,
     "metadata": {},
     "output_type": "execute_result"
    }
   ],
   "source": [
    "np.cbrt(148877),np.sqrt(961)"
   ]
  },
  {
   "cell_type": "code",
   "execution_count": 9,
   "metadata": {
    "collapsed": false
   },
   "outputs": [],
   "source": [
    "filePath1=basePath+\"/Task_SC/book_small.txt\""
   ]
  },
  {
   "cell_type": "code",
   "execution_count": 10,
   "metadata": {
    "collapsed": true
   },
   "outputs": [],
   "source": [
    "with open (filePath, \"r\") as myfile:\n",
    "    data = myfile.read().splitlines()"
   ]
  },
  {
   "cell_type": "code",
   "execution_count": 11,
   "metadata": {
    "collapsed": false
   },
   "outputs": [],
   "source": [
    "## maps chapter number to its Square root and sorts it\n",
    "chapterNrToSq={j.split(\" \")[1] : np.sqrt(int(j.split(\" \")[1])) for j in list(lineNumbersDict.values()) }\n",
    "chapterNrToSqSorted=sorted(chapterNrToSq.items(), key=lambda kv: kv[1])"
   ]
  },
  {
   "cell_type": "code",
   "execution_count": 12,
   "metadata": {
    "collapsed": false
   },
   "outputs": [],
   "source": [
    "## enumerates chapter number and square root to pth prime number\n",
    "## for e.g chapter 4 ,its square root is 2 and it(2) corresponds to 1st prime number \n",
    "## It produces (chapter number , square root) as key and pth prime number as value \n",
    "## ie pth prime number is the original chapter number \n",
    "chapterToPrimeMap={i:chapterNrToSqSorted.index(i)+1 for i in chapterNrToSqSorted}\n"
   ]
  },
  {
   "cell_type": "code",
   "execution_count": 15,
   "metadata": {
    "collapsed": false
   },
   "outputs": [
    {
     "data": {
      "text/plain": [
       "{('4', 2.0): 1, ('9', 3.0): 2, ('25', 5.0): 3}"
      ]
     },
     "execution_count": 15,
     "metadata": {},
     "output_type": "execute_result"
    }
   ],
   "source": [
    "{k: chapterToPrimeMap[k] for k in list(chapterToPrimeMap)[:3]}"
   ]
  },
  {
   "cell_type": "code",
   "execution_count": 14,
   "metadata": {
    "collapsed": true
   },
   "outputs": [],
   "source": [
    "chapterToPrime={primeList.index(i)+1:(i**2 , i**3) for i in primeList}"
   ]
  },
  {
   "cell_type": "code",
   "execution_count": 16,
   "metadata": {
    "collapsed": false
   },
   "outputs": [],
   "source": [
    "data=[]\n",
    "with open (filePath, \"r\") as myfile:\n",
    "    data = myfile.read().splitlines()\n",
    "    data=list(filter(None, data)) "
   ]
  },
  {
   "cell_type": "code",
   "execution_count": 17,
   "metadata": {
    "collapsed": false
   },
   "outputs": [],
   "source": [
    "chapterIndexes=[i for i, item in enumerate(data) if re.search('Chapter', item)]"
   ]
  },
  {
   "cell_type": "code",
   "execution_count": 18,
   "metadata": {
    "collapsed": false
   },
   "outputs": [
    {
     "data": {
      "text/plain": [
       "[53, 197, 261, 403]"
      ]
     },
     "execution_count": 18,
     "metadata": {},
     "output_type": "execute_result"
    }
   ],
   "source": [
    "chapterIndexes[0:4]"
   ]
  },
  {
   "cell_type": "code",
   "execution_count": 151,
   "metadata": {
    "collapsed": false
   },
   "outputs": [],
   "source": [
    "## get the Part Indexes \n",
    "## part indexes can't be found directly as it has multiple occurences \n",
    "## Idea: Get the Chapter Indexes and  PART Lies above it (-1 position of chapter)\n",
    "## GET the partTempIndex where PART occures  and get justBeforePart (-1 from chapter Index) and do an intersection\n",
    "partTempIndex=[i for i, item in enumerate(data) if re.search('PART', item)]\n",
    "justBeforePart=[i-1 for i in chapterIndexes]\n",
    "partIndexes=[value for value in justBeforePart if value in partTempIndex]"
   ]
  },
  {
   "cell_type": "code",
   "execution_count": 153,
   "metadata": {
    "collapsed": false
   },
   "outputs": [
    {
     "data": {
      "text/plain": [
       "[52, 4629, 9998, 13958, 18239, 27804, 27911, 28997, 30336, 37287]"
      ]
     },
     "execution_count": 153,
     "metadata": {},
     "output_type": "execute_result"
    }
   ],
   "source": [
    "partIndexes[0:10]"
   ]
  },
  {
   "cell_type": "code",
   "execution_count": 19,
   "metadata": {
    "collapsed": false
   },
   "outputs": [],
   "source": [
    "lastIndexOfData = len(data)\n",
    "import collections\n",
    "dt = collections.defaultdict(list)\n",
    "for i in range(len(chapterIndexes)):\n",
    "    if(i+1<len(chapterIndexes)):\n",
    "        dt[data[chapterIndexes[i]]].append(data[chapterIndexes[i]+1:chapterIndexes[i+1]] )\n",
    "    else:\n",
    "        dt[data[chapterIndexes[i]]].append(data[chapterIndexes[i]+1:lastIndexOfData] )\n",
    "allDict=dict(dt)"
   ]
  },
  {
   "cell_type": "code",
   "execution_count": 21,
   "metadata": {
    "collapsed": false
   },
   "outputs": [
    {
     "name": "stdout",
     "output_type": "stream",
     "text": [
      "key :  Chapter 961  Number of elements:  36\n",
      "key :  Chapter 2809  Number of elements:  36\n",
      "key :  Chapter 6889  Number of elements:  35\n",
      "key :  Chapter 10609  Number of elements:  30\n",
      "key :  Chapter 9  Number of elements:  36\n",
      "key :  Chapter 6241  Number of elements:  35\n",
      "key :  Chapter 49  Number of elements:  36\n",
      "key :  Chapter 16129  Number of elements:  30\n",
      "key :  Chapter 11449  Number of elements:  30\n",
      "key :  Chapter 289  Number of elements:  36\n",
      "key :  Chapter 25  Number of elements:  36\n",
      "key :  Chapter 1369  Number of elements:  36\n",
      "key :  Chapter 361  Number of elements:  36\n",
      "key :  Chapter 18769  Number of elements:  19\n",
      "key :  Chapter 169  Number of elements:  36\n",
      "key :  Chapter 12769  Number of elements:  30\n",
      "key :  Chapter 3481  Number of elements:  36\n",
      "key :  Chapter 11881  Number of elements:  30\n",
      "key :  Chapter 7921  Number of elements:  30\n",
      "key :  Chapter 841  Number of elements:  36\n",
      "key :  Chapter 1681  Number of elements:  36\n",
      "key :  Chapter 5041  Number of elements:  35\n",
      "key :  Chapter 17161  Number of elements:  28\n",
      "key :  Chapter 10201  Number of elements:  30\n",
      "key :  Chapter 4489  Number of elements:  36\n",
      "key :  Chapter 19321  Number of elements:  15\n",
      "key :  Chapter 2209  Number of elements:  36\n",
      "key :  Chapter 529  Number of elements:  36\n",
      "key :  Chapter 5329  Number of elements:  35\n",
      "key :  Chapter 9409  Number of elements:  30\n",
      "key :  Chapter 3721  Number of elements:  36\n",
      "key :  Chapter 1849  Number of elements:  36\n",
      "key :  Chapter 4  Number of elements:  36\n",
      "key :  Chapter 121  Number of elements:  36\n",
      "key :  Chapter 22201  Number of elements:  7\n"
     ]
    }
   ],
   "source": [
    "\n",
    "for key in allDict:\n",
    "    print(\"key : \",key, \" Number of elements: \",len(allDict[key]))"
   ]
  },
  {
   "cell_type": "code",
   "execution_count": 22,
   "metadata": {
    "collapsed": false
   },
   "outputs": [
    {
     "data": {
      "text/plain": [
       "35"
      ]
     },
     "execution_count": 22,
     "metadata": {},
     "output_type": "execute_result"
    }
   ],
   "source": [
    "len(allDict.keys())"
   ]
  },
  {
   "cell_type": "code",
   "execution_count": 23,
   "metadata": {
    "collapsed": false
   },
   "outputs": [],
   "source": [
    "r=allDict.get('Chapter 2809')[23]\n",
    "r\n",
    "s=[re.sub(\"\\d+\", \" \", words) for words in r]\n",
    "s\n",
    "p=', '.join(s).replace('foo',\",\")\n"
   ]
  },
  {
   "cell_type": "code",
   "execution_count": 75,
   "metadata": {
    "collapsed": false
   },
   "outputs": [],
   "source": [
    "## function to unscramble the text and replace nth square/cube with space and foo by commas\n",
    "import collections\n",
    "import logging\n",
    "newdt = collections.defaultdict(list)\n",
    "for i,item in enumerate(allDict):\n",
    "    numElementsInKey=allDict[item]\n",
    "    logging.info('Processing for key :',item,' having ',numElementsInKey)\n",
    "    for j in range(len(numElementsInKey)):      \n",
    "        r=allDict.get(item)[j]\n",
    "        s=[re.sub(\"\\d+\", \" \", words) for words in r]\n",
    "        p=[', '.join(s).replace('foo',\",\")]\n",
    "        newdt[item].append(p)\n",
    "        \n",
    "allNewDict=dict(newdt)"
   ]
  },
  {
   "cell_type": "code",
   "execution_count": 25,
   "metadata": {
    "collapsed": false
   },
   "outputs": [
    {
     "data": {
      "text/plain": [
       "dict"
      ]
     },
     "execution_count": 25,
     "metadata": {},
     "output_type": "execute_result"
    }
   ],
   "source": [
    "type(allNewDict)"
   ]
  },
  {
   "cell_type": "code",
   "execution_count": 26,
   "metadata": {
    "collapsed": false
   },
   "outputs": [
    {
     "name": "stdout",
     "output_type": "stream",
     "text": [
      "key :  Chapter 961  Number of elements:  36\n",
      "key :  Chapter 2809  Number of elements:  36\n",
      "key :  Chapter 6889  Number of elements:  35\n",
      "key :  Chapter 10609  Number of elements:  30\n",
      "key :  Chapter 9  Number of elements:  36\n",
      "key :  Chapter 6241  Number of elements:  35\n",
      "key :  Chapter 49  Number of elements:  36\n",
      "key :  Chapter 16129  Number of elements:  30\n",
      "key :  Chapter 11449  Number of elements:  30\n",
      "key :  Chapter 289  Number of elements:  36\n",
      "key :  Chapter 25  Number of elements:  36\n",
      "key :  Chapter 1369  Number of elements:  36\n",
      "key :  Chapter 361  Number of elements:  36\n",
      "key :  Chapter 18769  Number of elements:  19\n",
      "key :  Chapter 169  Number of elements:  36\n",
      "key :  Chapter 12769  Number of elements:  30\n",
      "key :  Chapter 3481  Number of elements:  36\n",
      "key :  Chapter 11881  Number of elements:  30\n",
      "key :  Chapter 7921  Number of elements:  30\n",
      "key :  Chapter 841  Number of elements:  36\n",
      "key :  Chapter 1681  Number of elements:  36\n",
      "key :  Chapter 5041  Number of elements:  35\n",
      "key :  Chapter 17161  Number of elements:  28\n",
      "key :  Chapter 10201  Number of elements:  30\n",
      "key :  Chapter 4489  Number of elements:  36\n",
      "key :  Chapter 19321  Number of elements:  15\n",
      "key :  Chapter 2209  Number of elements:  36\n",
      "key :  Chapter 529  Number of elements:  36\n",
      "key :  Chapter 5329  Number of elements:  35\n",
      "key :  Chapter 9409  Number of elements:  30\n",
      "key :  Chapter 3721  Number of elements:  36\n",
      "key :  Chapter 1849  Number of elements:  36\n",
      "key :  Chapter 4  Number of elements:  36\n",
      "key :  Chapter 121  Number of elements:  36\n",
      "key :  Chapter 22201  Number of elements:  7\n"
     ]
    }
   ],
   "source": [
    "for key in allNewDict:\n",
    "    print(\"key : \",key, \" Number of elements: \",len(allNewDict[key]))"
   ]
  },
  {
   "cell_type": "code",
   "execution_count": 27,
   "metadata": {
    "collapsed": false
   },
   "outputs": [],
   "source": [
    "for i in allNewDict['Chapter 22201'][0]:\n",
    "    w=i.split('.')"
   ]
  },
  {
   "cell_type": "code",
   "execution_count": 76,
   "metadata": {
    "collapsed": false
   },
   "outputs": [],
   "source": [
    "import collections\n",
    "import logging\n",
    "wordsSentencesForKey = collections.defaultdict(list)\n",
    "\n",
    "for i,item in enumerate(allNewDict):\n",
    "    numElementsInKey=allNewDict[item]\n",
    "    #print('Processing for key :',item,' having ',len(numElementsInKey))\n",
    "    for j in range(len(numElementsInKey)): \n",
    "        #print(item,\" \",j)\n",
    "        for k in allNewDict.get(item)[j]:\n",
    "            w=k.split(\".\")\n",
    "            totalSentences=len(w)\n",
    "            wordsInSentences=[len(set(w[l].split(\" \"))) for l in range(len(w)) ]\n",
    "            result={\"total_Sentences\":totalSentences,\"unique_words\":sum(wordsInSentences),\"longest_sentence\":max(wordsInSentences),\n",
    "                                   \"average_word\":math.ceil(statistics.mean(wordsInSentences))}\n",
    "            wordsSentencesForKey[item].append(result)\n",
    "\n",
    "wordsSentencesDict=dict(wordsSentencesForKey)"
   ]
  },
  {
   "cell_type": "code",
   "execution_count": 78,
   "metadata": {
    "collapsed": false
   },
   "outputs": [
    {
     "data": {
      "text/plain": [
       "[{'total_Sentences': 120,\n",
       "  'unique_words': 1512,\n",
       "  'longest_sentence': 50,\n",
       "  'average_word': 13},\n",
       " {'total_Sentences': 45,\n",
       "  'unique_words': 709,\n",
       "  'longest_sentence': 38,\n",
       "  'average_word': 16},\n",
       " {'total_Sentences': 120,\n",
       "  'unique_words': 1512,\n",
       "  'longest_sentence': 50,\n",
       "  'average_word': 13},\n",
       " {'total_Sentences': 46,\n",
       "  'unique_words': 1052,\n",
       "  'longest_sentence': 52,\n",
       "  'average_word': 23},\n",
       " {'total_Sentences': 45,\n",
       "  'unique_words': 709,\n",
       "  'longest_sentence': 38,\n",
       "  'average_word': 16},\n",
       " {'total_Sentences': 120,\n",
       "  'unique_words': 1512,\n",
       "  'longest_sentence': 50,\n",
       "  'average_word': 13},\n",
       " {'total_Sentences': 46,\n",
       "  'unique_words': 1052,\n",
       "  'longest_sentence': 52,\n",
       "  'average_word': 23},\n",
       " {'total_Sentences': 120,\n",
       "  'unique_words': 1512,\n",
       "  'longest_sentence': 50,\n",
       "  'average_word': 13},\n",
       " {'total_Sentences': 45,\n",
       "  'unique_words': 709,\n",
       "  'longest_sentence': 38,\n",
       "  'average_word': 16},\n",
       " {'total_Sentences': 34,\n",
       "  'unique_words': 623,\n",
       "  'longest_sentence': 49,\n",
       "  'average_word': 19},\n",
       " {'total_Sentences': 45,\n",
       "  'unique_words': 709,\n",
       "  'longest_sentence': 38,\n",
       "  'average_word': 16},\n",
       " {'total_Sentences': 34,\n",
       "  'unique_words': 623,\n",
       "  'longest_sentence': 49,\n",
       "  'average_word': 19},\n",
       " {'total_Sentences': 91,\n",
       "  'unique_words': 1792,\n",
       "  'longest_sentence': 63,\n",
       "  'average_word': 20},\n",
       " {'total_Sentences': 120,\n",
       "  'unique_words': 1512,\n",
       "  'longest_sentence': 50,\n",
       "  'average_word': 13},\n",
       " {'total_Sentences': 46,\n",
       "  'unique_words': 1052,\n",
       "  'longest_sentence': 52,\n",
       "  'average_word': 23},\n",
       " {'total_Sentences': 46,\n",
       "  'unique_words': 1052,\n",
       "  'longest_sentence': 52,\n",
       "  'average_word': 23},\n",
       " {'total_Sentences': 91,\n",
       "  'unique_words': 1792,\n",
       "  'longest_sentence': 63,\n",
       "  'average_word': 20},\n",
       " {'total_Sentences': 150,\n",
       "  'unique_words': 2314,\n",
       "  'longest_sentence': 68,\n",
       "  'average_word': 16},\n",
       " {'total_Sentences': 45,\n",
       "  'unique_words': 709,\n",
       "  'longest_sentence': 38,\n",
       "  'average_word': 16},\n",
       " {'total_Sentences': 34,\n",
       "  'unique_words': 623,\n",
       "  'longest_sentence': 49,\n",
       "  'average_word': 19},\n",
       " {'total_Sentences': 124,\n",
       "  'unique_words': 1627,\n",
       "  'longest_sentence': 50,\n",
       "  'average_word': 14},\n",
       " {'total_Sentences': 65,\n",
       "  'unique_words': 1000,\n",
       "  'longest_sentence': 39,\n",
       "  'average_word': 16},\n",
       " {'total_Sentences': 45,\n",
       "  'unique_words': 709,\n",
       "  'longest_sentence': 38,\n",
       "  'average_word': 16},\n",
       " {'total_Sentences': 46,\n",
       "  'unique_words': 1052,\n",
       "  'longest_sentence': 52,\n",
       "  'average_word': 23},\n",
       " {'total_Sentences': 91,\n",
       "  'unique_words': 1792,\n",
       "  'longest_sentence': 63,\n",
       "  'average_word': 20},\n",
       " {'total_Sentences': 150,\n",
       "  'unique_words': 2314,\n",
       "  'longest_sentence': 68,\n",
       "  'average_word': 16},\n",
       " {'total_Sentences': 120,\n",
       "  'unique_words': 1512,\n",
       "  'longest_sentence': 50,\n",
       "  'average_word': 13},\n",
       " {'total_Sentences': 34,\n",
       "  'unique_words': 623,\n",
       "  'longest_sentence': 49,\n",
       "  'average_word': 19},\n",
       " {'total_Sentences': 120,\n",
       "  'unique_words': 1512,\n",
       "  'longest_sentence': 50,\n",
       "  'average_word': 13},\n",
       " {'total_Sentences': 46,\n",
       "  'unique_words': 1052,\n",
       "  'longest_sentence': 52,\n",
       "  'average_word': 23},\n",
       " {'total_Sentences': 65,\n",
       "  'unique_words': 1000,\n",
       "  'longest_sentence': 39,\n",
       "  'average_word': 16},\n",
       " {'total_Sentences': 47,\n",
       "  'unique_words': 1029,\n",
       "  'longest_sentence': 72,\n",
       "  'average_word': 22},\n",
       " {'total_Sentences': 45,\n",
       "  'unique_words': 709,\n",
       "  'longest_sentence': 38,\n",
       "  'average_word': 16},\n",
       " {'total_Sentences': 34,\n",
       "  'unique_words': 623,\n",
       "  'longest_sentence': 49,\n",
       "  'average_word': 19},\n",
       " {'total_Sentences': 91,\n",
       "  'unique_words': 1792,\n",
       "  'longest_sentence': 63,\n",
       "  'average_word': 20},\n",
       " {'total_Sentences': 150,\n",
       "  'unique_words': 2314,\n",
       "  'longest_sentence': 68,\n",
       "  'average_word': 16}]"
      ]
     },
     "execution_count": 78,
     "metadata": {},
     "output_type": "execute_result"
    }
   ],
   "source": [
    "wordsSentencesDict['Chapter 961']"
   ]
  },
  {
   "cell_type": "code",
   "execution_count": 252,
   "metadata": {
    "collapsed": false
   },
   "outputs": [],
   "source": [
    "column_list=['average_word','longest_sentence','total_Sentences','unique_words']\n",
    "finalDF=pd.DataFrame(columns=['Original Chapter','average_word','longest_sentence','total_Sentences','unique_words'])\n",
    "for i,item in enumerate(wordsSentencesDict):\n",
    "    tempDF =pd.DataFrame( wordsSentencesDict[item]).apply(pd.to_numeric)\n",
    "    val=math.ceil(np.sqrt(int(item.split(\"Chapter \")[1])))\n",
    "    ## mapped chapter numbers to the original chapter\n",
    "    tempDF.insert(0,'Original Chapter',val)\n",
    "    finalDF=pd.concat([finalDF, tempDF]).drop_duplicates()\n",
    "    ## drop_duplicates is used to drop the duplicates as same chapter is present in other Parts , else can be retained \n",
    "finalDF[column_list] = finalDF[column_list].apply(pd.to_numeric, errors='coerce')"
   ]
  },
  {
   "cell_type": "code",
   "execution_count": 249,
   "metadata": {
    "collapsed": false
   },
   "outputs": [
    {
     "data": {
      "text/plain": [
       "Chapter Number      float64\n",
       "average_word          int64\n",
       "longest_sentence      int64\n",
       "total_Sentences       int64\n",
       "unique_words          int64\n",
       "dtype: object"
      ]
     },
     "execution_count": 249,
     "metadata": {},
     "output_type": "execute_result"
    }
   ],
   "source": [
    "finalDF.dtypes"
   ]
  },
  {
   "cell_type": "code",
   "execution_count": 253,
   "metadata": {
    "collapsed": false
   },
   "outputs": [
    {
     "data": {
      "text/html": [
       "<div>\n",
       "<style scoped>\n",
       "    .dataframe tbody tr th:only-of-type {\n",
       "        vertical-align: middle;\n",
       "    }\n",
       "\n",
       "    .dataframe tbody tr th {\n",
       "        vertical-align: top;\n",
       "    }\n",
       "\n",
       "    .dataframe thead th {\n",
       "        text-align: right;\n",
       "    }\n",
       "</style>\n",
       "<table border=\"1\" class=\"dataframe\">\n",
       "  <thead>\n",
       "    <tr style=\"text-align: right;\">\n",
       "      <th></th>\n",
       "      <th>Original Chapter</th>\n",
       "      <th>average_word</th>\n",
       "      <th>longest_sentence</th>\n",
       "      <th>total_Sentences</th>\n",
       "      <th>unique_words</th>\n",
       "    </tr>\n",
       "  </thead>\n",
       "  <tbody>\n",
       "    <tr>\n",
       "      <th>0</th>\n",
       "      <td>31</td>\n",
       "      <td>13</td>\n",
       "      <td>50</td>\n",
       "      <td>120</td>\n",
       "      <td>1512</td>\n",
       "    </tr>\n",
       "    <tr>\n",
       "      <th>1</th>\n",
       "      <td>31</td>\n",
       "      <td>16</td>\n",
       "      <td>38</td>\n",
       "      <td>45</td>\n",
       "      <td>709</td>\n",
       "    </tr>\n",
       "    <tr>\n",
       "      <th>3</th>\n",
       "      <td>31</td>\n",
       "      <td>23</td>\n",
       "      <td>52</td>\n",
       "      <td>46</td>\n",
       "      <td>1052</td>\n",
       "    </tr>\n",
       "    <tr>\n",
       "      <th>9</th>\n",
       "      <td>31</td>\n",
       "      <td>19</td>\n",
       "      <td>49</td>\n",
       "      <td>34</td>\n",
       "      <td>623</td>\n",
       "    </tr>\n",
       "    <tr>\n",
       "      <th>12</th>\n",
       "      <td>31</td>\n",
       "      <td>20</td>\n",
       "      <td>63</td>\n",
       "      <td>91</td>\n",
       "      <td>1792</td>\n",
       "    </tr>\n",
       "    <tr>\n",
       "      <th>17</th>\n",
       "      <td>31</td>\n",
       "      <td>16</td>\n",
       "      <td>68</td>\n",
       "      <td>150</td>\n",
       "      <td>2314</td>\n",
       "    </tr>\n",
       "    <tr>\n",
       "      <th>20</th>\n",
       "      <td>31</td>\n",
       "      <td>14</td>\n",
       "      <td>50</td>\n",
       "      <td>124</td>\n",
       "      <td>1627</td>\n",
       "    </tr>\n",
       "    <tr>\n",
       "      <th>21</th>\n",
       "      <td>31</td>\n",
       "      <td>16</td>\n",
       "      <td>39</td>\n",
       "      <td>65</td>\n",
       "      <td>1000</td>\n",
       "    </tr>\n",
       "    <tr>\n",
       "      <th>31</th>\n",
       "      <td>31</td>\n",
       "      <td>22</td>\n",
       "      <td>72</td>\n",
       "      <td>47</td>\n",
       "      <td>1029</td>\n",
       "    </tr>\n",
       "    <tr>\n",
       "      <th>0</th>\n",
       "      <td>53</td>\n",
       "      <td>18</td>\n",
       "      <td>74</td>\n",
       "      <td>38</td>\n",
       "      <td>677</td>\n",
       "    </tr>\n",
       "    <tr>\n",
       "      <th>1</th>\n",
       "      <td>53</td>\n",
       "      <td>15</td>\n",
       "      <td>44</td>\n",
       "      <td>114</td>\n",
       "      <td>1619</td>\n",
       "    </tr>\n",
       "    <tr>\n",
       "      <th>3</th>\n",
       "      <td>53</td>\n",
       "      <td>15</td>\n",
       "      <td>53</td>\n",
       "      <td>90</td>\n",
       "      <td>1314</td>\n",
       "    </tr>\n",
       "    <tr>\n",
       "      <th>9</th>\n",
       "      <td>53</td>\n",
       "      <td>14</td>\n",
       "      <td>48</td>\n",
       "      <td>91</td>\n",
       "      <td>1264</td>\n",
       "    </tr>\n",
       "    <tr>\n",
       "      <th>12</th>\n",
       "      <td>53</td>\n",
       "      <td>13</td>\n",
       "      <td>58</td>\n",
       "      <td>90</td>\n",
       "      <td>1139</td>\n",
       "    </tr>\n",
       "    <tr>\n",
       "      <th>16</th>\n",
       "      <td>53</td>\n",
       "      <td>20</td>\n",
       "      <td>66</td>\n",
       "      <td>95</td>\n",
       "      <td>1809</td>\n",
       "    </tr>\n",
       "    <tr>\n",
       "      <th>26</th>\n",
       "      <td>53</td>\n",
       "      <td>18</td>\n",
       "      <td>62</td>\n",
       "      <td>53</td>\n",
       "      <td>922</td>\n",
       "    </tr>\n",
       "    <tr>\n",
       "      <th>29</th>\n",
       "      <td>53</td>\n",
       "      <td>19</td>\n",
       "      <td>83</td>\n",
       "      <td>63</td>\n",
       "      <td>1173</td>\n",
       "    </tr>\n",
       "    <tr>\n",
       "      <th>0</th>\n",
       "      <td>83</td>\n",
       "      <td>21</td>\n",
       "      <td>54</td>\n",
       "      <td>74</td>\n",
       "      <td>1520</td>\n",
       "    </tr>\n",
       "    <tr>\n",
       "      <th>2</th>\n",
       "      <td>83</td>\n",
       "      <td>14</td>\n",
       "      <td>59</td>\n",
       "      <td>78</td>\n",
       "      <td>1036</td>\n",
       "    </tr>\n",
       "    <tr>\n",
       "      <th>3</th>\n",
       "      <td>83</td>\n",
       "      <td>18</td>\n",
       "      <td>62</td>\n",
       "      <td>77</td>\n",
       "      <td>1355</td>\n",
       "    </tr>\n",
       "  </tbody>\n",
       "</table>\n",
       "</div>"
      ],
      "text/plain": [
       "   Original Chapter  average_word  longest_sentence  total_Sentences  \\\n",
       "0                31            13                50              120   \n",
       "1                31            16                38               45   \n",
       "3                31            23                52               46   \n",
       "9                31            19                49               34   \n",
       "12               31            20                63               91   \n",
       "17               31            16                68              150   \n",
       "20               31            14                50              124   \n",
       "21               31            16                39               65   \n",
       "31               31            22                72               47   \n",
       "0                53            18                74               38   \n",
       "1                53            15                44              114   \n",
       "3                53            15                53               90   \n",
       "9                53            14                48               91   \n",
       "12               53            13                58               90   \n",
       "16               53            20                66               95   \n",
       "26               53            18                62               53   \n",
       "29               53            19                83               63   \n",
       "0                83            21                54               74   \n",
       "2                83            14                59               78   \n",
       "3                83            18                62               77   \n",
       "\n",
       "    unique_words  \n",
       "0           1512  \n",
       "1            709  \n",
       "3           1052  \n",
       "9            623  \n",
       "12          1792  \n",
       "17          2314  \n",
       "20          1627  \n",
       "21          1000  \n",
       "31          1029  \n",
       "0            677  \n",
       "1           1619  \n",
       "3           1314  \n",
       "9           1264  \n",
       "12          1139  \n",
       "16          1809  \n",
       "26           922  \n",
       "29          1173  \n",
       "0           1520  \n",
       "2           1036  \n",
       "3           1355  "
      ]
     },
     "execution_count": 253,
     "metadata": {},
     "output_type": "execute_result"
    }
   ],
   "source": [
    "finalDF.head(20)"
   ]
  },
  {
   "cell_type": "code",
   "execution_count": 221,
   "metadata": {
    "collapsed": false
   },
   "outputs": [
    {
     "data": {
      "text/html": [
       "<div>\n",
       "<style scoped>\n",
       "    .dataframe tbody tr th:only-of-type {\n",
       "        vertical-align: middle;\n",
       "    }\n",
       "\n",
       "    .dataframe tbody tr th {\n",
       "        vertical-align: top;\n",
       "    }\n",
       "\n",
       "    .dataframe thead th {\n",
       "        text-align: right;\n",
       "    }\n",
       "</style>\n",
       "<table border=\"1\" class=\"dataframe\">\n",
       "  <thead>\n",
       "    <tr style=\"text-align: right;\">\n",
       "      <th></th>\n",
       "      <th>average_word</th>\n",
       "      <th>total_Sentences</th>\n",
       "      <th>longest_sentence</th>\n",
       "      <th>unique_words</th>\n",
       "    </tr>\n",
       "    <tr>\n",
       "      <th>Chapter Number</th>\n",
       "      <th></th>\n",
       "      <th></th>\n",
       "      <th></th>\n",
       "      <th></th>\n",
       "    </tr>\n",
       "  </thead>\n",
       "  <tbody>\n",
       "    <tr>\n",
       "      <th>Chapter 10201</th>\n",
       "      <td>22.166667</td>\n",
       "      <td>402</td>\n",
       "      <td>77</td>\n",
       "      <td>1432.333333</td>\n",
       "    </tr>\n",
       "    <tr>\n",
       "      <th>Chapter 10609</th>\n",
       "      <td>17.166667</td>\n",
       "      <td>463</td>\n",
       "      <td>66</td>\n",
       "      <td>1241.333333</td>\n",
       "    </tr>\n",
       "    <tr>\n",
       "      <th>Chapter 11449</th>\n",
       "      <td>17.000000</td>\n",
       "      <td>528</td>\n",
       "      <td>85</td>\n",
       "      <td>1408.000000</td>\n",
       "    </tr>\n",
       "    <tr>\n",
       "      <th>Chapter 11881</th>\n",
       "      <td>19.000000</td>\n",
       "      <td>508</td>\n",
       "      <td>65</td>\n",
       "      <td>1438.000000</td>\n",
       "    </tr>\n",
       "    <tr>\n",
       "      <th>Chapter 121</th>\n",
       "      <td>18.222222</td>\n",
       "      <td>792</td>\n",
       "      <td>98</td>\n",
       "      <td>1584.444444</td>\n",
       "    </tr>\n",
       "    <tr>\n",
       "      <th>Chapter 12769</th>\n",
       "      <td>19.000000</td>\n",
       "      <td>434</td>\n",
       "      <td>87</td>\n",
       "      <td>1272.333333</td>\n",
       "    </tr>\n",
       "    <tr>\n",
       "      <th>Chapter 1369</th>\n",
       "      <td>18.875000</td>\n",
       "      <td>580</td>\n",
       "      <td>65</td>\n",
       "      <td>1301.000000</td>\n",
       "    </tr>\n",
       "    <tr>\n",
       "      <th>Chapter 16129</th>\n",
       "      <td>18.428571</td>\n",
       "      <td>547</td>\n",
       "      <td>67</td>\n",
       "      <td>1389.142857</td>\n",
       "    </tr>\n",
       "    <tr>\n",
       "      <th>Chapter 1681</th>\n",
       "      <td>18.375000</td>\n",
       "      <td>627</td>\n",
       "      <td>92</td>\n",
       "      <td>1353.000000</td>\n",
       "    </tr>\n",
       "    <tr>\n",
       "      <th>Chapter 169</th>\n",
       "      <td>18.625000</td>\n",
       "      <td>550</td>\n",
       "      <td>117</td>\n",
       "      <td>1147.500000</td>\n",
       "    </tr>\n",
       "    <tr>\n",
       "      <th>Chapter 17161</th>\n",
       "      <td>15.571429</td>\n",
       "      <td>588</td>\n",
       "      <td>64</td>\n",
       "      <td>1229.285714</td>\n",
       "    </tr>\n",
       "    <tr>\n",
       "      <th>Chapter 1849</th>\n",
       "      <td>19.375000</td>\n",
       "      <td>735</td>\n",
       "      <td>93</td>\n",
       "      <td>1679.500000</td>\n",
       "    </tr>\n",
       "    <tr>\n",
       "      <th>Chapter 18769</th>\n",
       "      <td>18.750000</td>\n",
       "      <td>492</td>\n",
       "      <td>55</td>\n",
       "      <td>2016.750000</td>\n",
       "    </tr>\n",
       "    <tr>\n",
       "      <th>Chapter 19321</th>\n",
       "      <td>15.666667</td>\n",
       "      <td>326</td>\n",
       "      <td>65</td>\n",
       "      <td>1666.666667</td>\n",
       "    </tr>\n",
       "    <tr>\n",
       "      <th>Chapter 2209</th>\n",
       "      <td>15.500000</td>\n",
       "      <td>873</td>\n",
       "      <td>131</td>\n",
       "      <td>1315.600000</td>\n",
       "    </tr>\n",
       "    <tr>\n",
       "      <th>Chapter 22201</th>\n",
       "      <td>13.000000</td>\n",
       "      <td>278</td>\n",
       "      <td>58</td>\n",
       "      <td>1789.000000</td>\n",
       "    </tr>\n",
       "    <tr>\n",
       "      <th>Chapter 25</th>\n",
       "      <td>16.888889</td>\n",
       "      <td>914</td>\n",
       "      <td>78</td>\n",
       "      <td>1537.000000</td>\n",
       "    </tr>\n",
       "    <tr>\n",
       "      <th>Chapter 2809</th>\n",
       "      <td>16.500000</td>\n",
       "      <td>634</td>\n",
       "      <td>83</td>\n",
       "      <td>1239.625000</td>\n",
       "    </tr>\n",
       "    <tr>\n",
       "      <th>Chapter 289</th>\n",
       "      <td>19.375000</td>\n",
       "      <td>650</td>\n",
       "      <td>93</td>\n",
       "      <td>1394.750000</td>\n",
       "    </tr>\n",
       "    <tr>\n",
       "      <th>Chapter 3481</th>\n",
       "      <td>16.875000</td>\n",
       "      <td>815</td>\n",
       "      <td>82</td>\n",
       "      <td>1596.750000</td>\n",
       "    </tr>\n",
       "    <tr>\n",
       "      <th>Chapter 361</th>\n",
       "      <td>20.125000</td>\n",
       "      <td>534</td>\n",
       "      <td>62</td>\n",
       "      <td>1219.375000</td>\n",
       "    </tr>\n",
       "    <tr>\n",
       "      <th>Chapter 3721</th>\n",
       "      <td>16.875000</td>\n",
       "      <td>699</td>\n",
       "      <td>65</td>\n",
       "      <td>1284.500000</td>\n",
       "    </tr>\n",
       "    <tr>\n",
       "      <th>Chapter 4</th>\n",
       "      <td>21.500000</td>\n",
       "      <td>502</td>\n",
       "      <td>71</td>\n",
       "      <td>1261.500000</td>\n",
       "    </tr>\n",
       "    <tr>\n",
       "      <th>Chapter 4489</th>\n",
       "      <td>17.250000</td>\n",
       "      <td>954</td>\n",
       "      <td>87</td>\n",
       "      <td>1794.000000</td>\n",
       "    </tr>\n",
       "    <tr>\n",
       "      <th>Chapter 49</th>\n",
       "      <td>17.750000</td>\n",
       "      <td>653</td>\n",
       "      <td>88</td>\n",
       "      <td>1396.375000</td>\n",
       "    </tr>\n",
       "    <tr>\n",
       "      <th>Chapter 5041</th>\n",
       "      <td>16.571429</td>\n",
       "      <td>649</td>\n",
       "      <td>64</td>\n",
       "      <td>1464.000000</td>\n",
       "    </tr>\n",
       "    <tr>\n",
       "      <th>Chapter 529</th>\n",
       "      <td>19.222222</td>\n",
       "      <td>764</td>\n",
       "      <td>84</td>\n",
       "      <td>1511.333333</td>\n",
       "    </tr>\n",
       "    <tr>\n",
       "      <th>Chapter 5329</th>\n",
       "      <td>16.571429</td>\n",
       "      <td>748</td>\n",
       "      <td>66</td>\n",
       "      <td>1575.428571</td>\n",
       "    </tr>\n",
       "    <tr>\n",
       "      <th>Chapter 6241</th>\n",
       "      <td>17.428571</td>\n",
       "      <td>731</td>\n",
       "      <td>74</td>\n",
       "      <td>1738.857143</td>\n",
       "    </tr>\n",
       "    <tr>\n",
       "      <th>Chapter 6889</th>\n",
       "      <td>17.750000</td>\n",
       "      <td>627</td>\n",
       "      <td>63</td>\n",
       "      <td>1261.250000</td>\n",
       "    </tr>\n",
       "    <tr>\n",
       "      <th>Chapter 7921</th>\n",
       "      <td>18.666667</td>\n",
       "      <td>567</td>\n",
       "      <td>72</td>\n",
       "      <td>1579.166667</td>\n",
       "    </tr>\n",
       "    <tr>\n",
       "      <th>Chapter 841</th>\n",
       "      <td>17.625000</td>\n",
       "      <td>749</td>\n",
       "      <td>83</td>\n",
       "      <td>1388.875000</td>\n",
       "    </tr>\n",
       "    <tr>\n",
       "      <th>Chapter 9</th>\n",
       "      <td>15.125000</td>\n",
       "      <td>782</td>\n",
       "      <td>111</td>\n",
       "      <td>1373.875000</td>\n",
       "    </tr>\n",
       "    <tr>\n",
       "      <th>Chapter 9409</th>\n",
       "      <td>18.142857</td>\n",
       "      <td>663</td>\n",
       "      <td>73</td>\n",
       "      <td>1519.714286</td>\n",
       "    </tr>\n",
       "    <tr>\n",
       "      <th>Chapter 961</th>\n",
       "      <td>17.666667</td>\n",
       "      <td>722</td>\n",
       "      <td>72</td>\n",
       "      <td>1295.333333</td>\n",
       "    </tr>\n",
       "  </tbody>\n",
       "</table>\n",
       "</div>"
      ],
      "text/plain": [
       "                average_word  total_Sentences  longest_sentence  unique_words\n",
       "Chapter Number                                                               \n",
       "Chapter 10201      22.166667              402                77   1432.333333\n",
       "Chapter 10609      17.166667              463                66   1241.333333\n",
       "Chapter 11449      17.000000              528                85   1408.000000\n",
       "Chapter 11881      19.000000              508                65   1438.000000\n",
       "Chapter 121        18.222222              792                98   1584.444444\n",
       "Chapter 12769      19.000000              434                87   1272.333333\n",
       "Chapter 1369       18.875000              580                65   1301.000000\n",
       "Chapter 16129      18.428571              547                67   1389.142857\n",
       "Chapter 1681       18.375000              627                92   1353.000000\n",
       "Chapter 169        18.625000              550               117   1147.500000\n",
       "Chapter 17161      15.571429              588                64   1229.285714\n",
       "Chapter 1849       19.375000              735                93   1679.500000\n",
       "Chapter 18769      18.750000              492                55   2016.750000\n",
       "Chapter 19321      15.666667              326                65   1666.666667\n",
       "Chapter 2209       15.500000              873               131   1315.600000\n",
       "Chapter 22201      13.000000              278                58   1789.000000\n",
       "Chapter 25         16.888889              914                78   1537.000000\n",
       "Chapter 2809       16.500000              634                83   1239.625000\n",
       "Chapter 289        19.375000              650                93   1394.750000\n",
       "Chapter 3481       16.875000              815                82   1596.750000\n",
       "Chapter 361        20.125000              534                62   1219.375000\n",
       "Chapter 3721       16.875000              699                65   1284.500000\n",
       "Chapter 4          21.500000              502                71   1261.500000\n",
       "Chapter 4489       17.250000              954                87   1794.000000\n",
       "Chapter 49         17.750000              653                88   1396.375000\n",
       "Chapter 5041       16.571429              649                64   1464.000000\n",
       "Chapter 529        19.222222              764                84   1511.333333\n",
       "Chapter 5329       16.571429              748                66   1575.428571\n",
       "Chapter 6241       17.428571              731                74   1738.857143\n",
       "Chapter 6889       17.750000              627                63   1261.250000\n",
       "Chapter 7921       18.666667              567                72   1579.166667\n",
       "Chapter 841        17.625000              749                83   1388.875000\n",
       "Chapter 9          15.125000              782               111   1373.875000\n",
       "Chapter 9409       18.142857              663                73   1519.714286\n",
       "Chapter 961        17.666667              722                72   1295.333333"
      ]
     },
     "execution_count": 221,
     "metadata": {},
     "output_type": "execute_result"
    }
   ],
   "source": [
    "finalDF.groupby(['Chapter Number']).agg({'average_word':'mean', 'total_Sentences':'sum','longest_sentence':'max','unique_words':'mean'})"
   ]
  },
  {
   "cell_type": "code",
   "execution_count": null,
   "metadata": {
    "collapsed": true
   },
   "outputs": [],
   "source": [
    "######################## Below Code contains for Statistics by PART ##################"
   ]
  },
  {
   "cell_type": "code",
   "execution_count": 163,
   "metadata": {
    "collapsed": true
   },
   "outputs": [],
   "source": [
    "################################################3\n",
    "lastIndexOfData = len(data)\n",
    "import collections\n",
    "dt1 = collections.defaultdict(list)\n",
    "for i in range(len(partIndexes)):\n",
    "    if(i+1<len(partIndexes)):\n",
    "        dt1[data[partIndexes[i]]].append(data[partIndexes[i]+1:partIndexes[i+1]] )\n",
    "    else:\n",
    "        dt1[data[partIndexes[i]]].append(data[partIndexes[i]+1:lastIndexOfData] )\n",
    "allDict1=dict(dt1)\n",
    "\n"
   ]
  },
  {
   "cell_type": "code",
   "execution_count": 164,
   "metadata": {
    "collapsed": false
   },
   "outputs": [
    {
     "name": "stdout",
     "output_type": "stream",
     "text": [
      "key :  PART ONE  Number of elements:  8\n",
      "key :  PART TWO  Number of elements:  7\n",
      "key :  PART THREE  Number of elements:  6\n",
      "key :  PART FOUR  Number of elements:  5\n",
      "key :  PART FIVE  Number of elements:  4\n",
      "key :  PART SIX  Number of elements:  3\n",
      "key :  PART SEVEN  Number of elements:  2\n",
      "key :  PART EIGHT  Number of elements:  1\n"
     ]
    }
   ],
   "source": [
    "##########################################\n",
    "for key in allDict1:\n",
    "    print(\"key : \",key, \" Number of elements: \",len(allDict1[key]))"
   ]
  },
  {
   "cell_type": "code",
   "execution_count": 171,
   "metadata": {
    "collapsed": false
   },
   "outputs": [],
   "source": [
    "########################################\n",
    "\n",
    "## function to unscramble the text and replace nth square/cube with space and foo by commas\n",
    "import collections\n",
    "import logging\n",
    "newdt1 = collections.defaultdict(list)\n",
    "dt2 = collections.defaultdict(list)\n",
    "\n",
    "\n",
    "for i,item in enumerate(allDict1):\n",
    "    numElementsInKey=allDict1[item]\n",
    "    logging.info('Processing for key :',item,' having ',numElementsInKey)\n",
    "    for j in range(len(numElementsInKey)):\n",
    "        r=allDict1.get(item)[j]\n",
    "        s=[re.sub(\"\\d+\", \" \", words) for words in r]\n",
    "        p=[', '.join(s).replace('foo',\",\")]\n",
    "        newdt1[item].append(p)\n",
    "\n",
    "                      \n",
    "allNewDict_2=dict(newdt1)"
   ]
  },
  {
   "cell_type": "code",
   "execution_count": 172,
   "metadata": {
    "collapsed": false
   },
   "outputs": [
    {
     "name": "stdout",
     "output_type": "stream",
     "text": [
      "key :  PART ONE  Number of elements:  8\n",
      "key :  PART TWO  Number of elements:  7\n",
      "key :  PART THREE  Number of elements:  6\n",
      "key :  PART FOUR  Number of elements:  5\n",
      "key :  PART FIVE  Number of elements:  4\n",
      "key :  PART SIX  Number of elements:  3\n",
      "key :  PART SEVEN  Number of elements:  2\n",
      "key :  PART EIGHT  Number of elements:  1\n"
     ]
    }
   ],
   "source": [
    "for key in allNewDict_2:\n",
    "    print(\"key : \",key, \" Number of elements: \",len(allNewDict_2[key]))"
   ]
  },
  {
   "cell_type": "code",
   "execution_count": 179,
   "metadata": {
    "collapsed": false
   },
   "outputs": [],
   "source": [
    "###########################\n",
    "\n",
    "import collections\n",
    "import logging\n",
    "wordsSentencesForKey1 = collections.defaultdict(list)\n",
    "\n",
    "for i,item in enumerate(allNewDict_2):\n",
    "    numElementsInKey=allNewDict_2[item]\n",
    "    #print('Processing for key :',item,' having ',len(numElementsInKey))\n",
    "    for j in range(len(numElementsInKey)): \n",
    "        #print(item,\" \",j)\n",
    "        for k in allNewDict_2.get(item)[j]:\n",
    "            w=k.split(\".\")\n",
    "            totalSentences=len(w)\n",
    "            wordsInSentences=[len(set(w[l].split(\" \"))) for l in range(len(w)) ]\n",
    "            result={\"total_Sentences\":totalSentences,\"unique_words\":sum(wordsInSentences),\"longest_sentence\":max(wordsInSentences),\n",
    "                                   \"average_word\":math.ceil(statistics.mean(wordsInSentences))}\n",
    "            wordsSentencesForKey1[item].append(result)\n",
    "\n",
    "wordsSentencesDict1=dict(wordsSentencesForKey1)"
   ]
  },
  {
   "cell_type": "code",
   "execution_count": 255,
   "metadata": {
    "collapsed": false
   },
   "outputs": [
    {
     "data": {
      "text/html": [
       "<div>\n",
       "<style scoped>\n",
       "    .dataframe tbody tr th:only-of-type {\n",
       "        vertical-align: middle;\n",
       "    }\n",
       "\n",
       "    .dataframe tbody tr th {\n",
       "        vertical-align: top;\n",
       "    }\n",
       "\n",
       "    .dataframe thead th {\n",
       "        text-align: right;\n",
       "    }\n",
       "</style>\n",
       "<table border=\"1\" class=\"dataframe\">\n",
       "  <thead>\n",
       "    <tr style=\"text-align: right;\">\n",
       "      <th></th>\n",
       "      <th>Part Number</th>\n",
       "      <th>average_word</th>\n",
       "      <th>longest_sentence</th>\n",
       "      <th>total_Sentences</th>\n",
       "      <th>unique_words</th>\n",
       "    </tr>\n",
       "  </thead>\n",
       "  <tbody>\n",
       "    <tr>\n",
       "      <th>0</th>\n",
       "      <td>PART ONE</td>\n",
       "      <td>16</td>\n",
       "      <td>117</td>\n",
       "      <td>3009</td>\n",
       "      <td>47548</td>\n",
       "    </tr>\n",
       "    <tr>\n",
       "      <th>1</th>\n",
       "      <td>PART ONE</td>\n",
       "      <td>17</td>\n",
       "      <td>117</td>\n",
       "      <td>3464</td>\n",
       "      <td>56235</td>\n",
       "    </tr>\n",
       "    <tr>\n",
       "      <th>2</th>\n",
       "      <td>PART ONE</td>\n",
       "      <td>18</td>\n",
       "      <td>93</td>\n",
       "      <td>2569</td>\n",
       "      <td>44425</td>\n",
       "    </tr>\n",
       "    <tr>\n",
       "      <th>3</th>\n",
       "      <td>PART ONE</td>\n",
       "      <td>17</td>\n",
       "      <td>85</td>\n",
       "      <td>695</td>\n",
       "      <td>11143</td>\n",
       "    </tr>\n",
       "    <tr>\n",
       "      <th>4</th>\n",
       "      <td>PART ONE</td>\n",
       "      <td>18</td>\n",
       "      <td>93</td>\n",
       "      <td>1411</td>\n",
       "      <td>24715</td>\n",
       "    </tr>\n",
       "    <tr>\n",
       "      <th>5</th>\n",
       "      <td>PART ONE</td>\n",
       "      <td>17</td>\n",
       "      <td>117</td>\n",
       "      <td>2347</td>\n",
       "      <td>39795</td>\n",
       "    </tr>\n",
       "    <tr>\n",
       "      <th>6</th>\n",
       "      <td>PART ONE</td>\n",
       "      <td>16</td>\n",
       "      <td>85</td>\n",
       "      <td>1437</td>\n",
       "      <td>22824</td>\n",
       "    </tr>\n",
       "    <tr>\n",
       "      <th>7</th>\n",
       "      <td>PART ONE</td>\n",
       "      <td>17</td>\n",
       "      <td>87</td>\n",
       "      <td>2595</td>\n",
       "      <td>42338</td>\n",
       "    </tr>\n",
       "    <tr>\n",
       "      <th>0</th>\n",
       "      <td>PART TWO</td>\n",
       "      <td>17</td>\n",
       "      <td>87</td>\n",
       "      <td>2528</td>\n",
       "      <td>40994</td>\n",
       "    </tr>\n",
       "    <tr>\n",
       "      <th>1</th>\n",
       "      <td>PART TWO</td>\n",
       "      <td>15</td>\n",
       "      <td>50</td>\n",
       "      <td>65</td>\n",
       "      <td>963</td>\n",
       "    </tr>\n",
       "    <tr>\n",
       "      <th>2</th>\n",
       "      <td>PART TWO</td>\n",
       "      <td>17</td>\n",
       "      <td>93</td>\n",
       "      <td>4453</td>\n",
       "      <td>72753</td>\n",
       "    </tr>\n",
       "    <tr>\n",
       "      <th>3</th>\n",
       "      <td>PART TWO</td>\n",
       "      <td>18</td>\n",
       "      <td>131</td>\n",
       "      <td>3721</td>\n",
       "      <td>64700</td>\n",
       "    </tr>\n",
       "    <tr>\n",
       "      <th>4</th>\n",
       "      <td>PART TWO</td>\n",
       "      <td>17</td>\n",
       "      <td>85</td>\n",
       "      <td>2399</td>\n",
       "      <td>40615</td>\n",
       "    </tr>\n",
       "    <tr>\n",
       "      <th>5</th>\n",
       "      <td>PART TWO</td>\n",
       "      <td>18</td>\n",
       "      <td>117</td>\n",
       "      <td>3862</td>\n",
       "      <td>67599</td>\n",
       "    </tr>\n",
       "    <tr>\n",
       "      <th>6</th>\n",
       "      <td>PART TWO</td>\n",
       "      <td>16</td>\n",
       "      <td>117</td>\n",
       "      <td>1511</td>\n",
       "      <td>23173</td>\n",
       "    </tr>\n",
       "    <tr>\n",
       "      <th>0</th>\n",
       "      <td>PART THREE</td>\n",
       "      <td>17</td>\n",
       "      <td>117</td>\n",
       "      <td>6000</td>\n",
       "      <td>100723</td>\n",
       "    </tr>\n",
       "    <tr>\n",
       "      <th>1</th>\n",
       "      <td>PART THREE</td>\n",
       "      <td>18</td>\n",
       "      <td>66</td>\n",
       "      <td>809</td>\n",
       "      <td>14342</td>\n",
       "    </tr>\n",
       "    <tr>\n",
       "      <th>2</th>\n",
       "      <td>PART THREE</td>\n",
       "      <td>18</td>\n",
       "      <td>85</td>\n",
       "      <td>1879</td>\n",
       "      <td>32364</td>\n",
       "    </tr>\n",
       "    <tr>\n",
       "      <th>3</th>\n",
       "      <td>PART THREE</td>\n",
       "      <td>18</td>\n",
       "      <td>131</td>\n",
       "      <td>786</td>\n",
       "      <td>13909</td>\n",
       "    </tr>\n",
       "    <tr>\n",
       "      <th>4</th>\n",
       "      <td>PART THREE</td>\n",
       "      <td>16</td>\n",
       "      <td>62</td>\n",
       "      <td>71</td>\n",
       "      <td>1098</td>\n",
       "    </tr>\n",
       "    <tr>\n",
       "      <th>5</th>\n",
       "      <td>PART THREE</td>\n",
       "      <td>18</td>\n",
       "      <td>74</td>\n",
       "      <td>2486</td>\n",
       "      <td>43374</td>\n",
       "    </tr>\n",
       "    <tr>\n",
       "      <th>0</th>\n",
       "      <td>PART FOUR</td>\n",
       "      <td>17</td>\n",
       "      <td>117</td>\n",
       "      <td>4858</td>\n",
       "      <td>81445</td>\n",
       "    </tr>\n",
       "    <tr>\n",
       "      <th>1</th>\n",
       "      <td>PART FOUR</td>\n",
       "      <td>17</td>\n",
       "      <td>111</td>\n",
       "      <td>6221</td>\n",
       "      <td>102834</td>\n",
       "    </tr>\n",
       "    <tr>\n",
       "      <th>2</th>\n",
       "      <td>PART FOUR</td>\n",
       "      <td>17</td>\n",
       "      <td>111</td>\n",
       "      <td>4087</td>\n",
       "      <td>66243</td>\n",
       "    </tr>\n",
       "    <tr>\n",
       "      <th>3</th>\n",
       "      <td>PART FOUR</td>\n",
       "      <td>16</td>\n",
       "      <td>73</td>\n",
       "      <td>851</td>\n",
       "      <td>13335</td>\n",
       "    </tr>\n",
       "    <tr>\n",
       "      <th>4</th>\n",
       "      <td>PART FOUR</td>\n",
       "      <td>17</td>\n",
       "      <td>88</td>\n",
       "      <td>971</td>\n",
       "      <td>16209</td>\n",
       "    </tr>\n",
       "    <tr>\n",
       "      <th>0</th>\n",
       "      <td>PART FIVE</td>\n",
       "      <td>15</td>\n",
       "      <td>53</td>\n",
       "      <td>104</td>\n",
       "      <td>1514</td>\n",
       "    </tr>\n",
       "    <tr>\n",
       "      <th>1</th>\n",
       "      <td>PART FIVE</td>\n",
       "      <td>18</td>\n",
       "      <td>77</td>\n",
       "      <td>1891</td>\n",
       "      <td>32964</td>\n",
       "    </tr>\n",
       "    <tr>\n",
       "      <th>2</th>\n",
       "      <td>PART FIVE</td>\n",
       "      <td>17</td>\n",
       "      <td>76</td>\n",
       "      <td>3386</td>\n",
       "      <td>56799</td>\n",
       "    </tr>\n",
       "    <tr>\n",
       "      <th>3</th>\n",
       "      <td>PART FIVE</td>\n",
       "      <td>16</td>\n",
       "      <td>83</td>\n",
       "      <td>811</td>\n",
       "      <td>12889</td>\n",
       "    </tr>\n",
       "    <tr>\n",
       "      <th>0</th>\n",
       "      <td>PART SIX</td>\n",
       "      <td>17</td>\n",
       "      <td>88</td>\n",
       "      <td>4963</td>\n",
       "      <td>81288</td>\n",
       "    </tr>\n",
       "    <tr>\n",
       "      <th>1</th>\n",
       "      <td>PART SIX</td>\n",
       "      <td>17</td>\n",
       "      <td>131</td>\n",
       "      <td>8642</td>\n",
       "      <td>142398</td>\n",
       "    </tr>\n",
       "    <tr>\n",
       "      <th>2</th>\n",
       "      <td>PART SIX</td>\n",
       "      <td>16</td>\n",
       "      <td>87</td>\n",
       "      <td>1797</td>\n",
       "      <td>27673</td>\n",
       "    </tr>\n",
       "    <tr>\n",
       "      <th>0</th>\n",
       "      <td>PART SEVEN</td>\n",
       "      <td>16</td>\n",
       "      <td>87</td>\n",
       "      <td>727</td>\n",
       "      <td>10983</td>\n",
       "    </tr>\n",
       "    <tr>\n",
       "      <th>1</th>\n",
       "      <td>PART SEVEN</td>\n",
       "      <td>18</td>\n",
       "      <td>131</td>\n",
       "      <td>9200</td>\n",
       "      <td>158402</td>\n",
       "    </tr>\n",
       "    <tr>\n",
       "      <th>0</th>\n",
       "      <td>PART EIGHT</td>\n",
       "      <td>16</td>\n",
       "      <td>63</td>\n",
       "      <td>807</td>\n",
       "      <td>12818</td>\n",
       "    </tr>\n",
       "  </tbody>\n",
       "</table>\n",
       "</div>"
      ],
      "text/plain": [
       "  Part Number  average_word  longest_sentence  total_Sentences  unique_words\n",
       "0    PART ONE            16               117             3009         47548\n",
       "1    PART ONE            17               117             3464         56235\n",
       "2    PART ONE            18                93             2569         44425\n",
       "3    PART ONE            17                85              695         11143\n",
       "4    PART ONE            18                93             1411         24715\n",
       "5    PART ONE            17               117             2347         39795\n",
       "6    PART ONE            16                85             1437         22824\n",
       "7    PART ONE            17                87             2595         42338\n",
       "0    PART TWO            17                87             2528         40994\n",
       "1    PART TWO            15                50               65           963\n",
       "2    PART TWO            17                93             4453         72753\n",
       "3    PART TWO            18               131             3721         64700\n",
       "4    PART TWO            17                85             2399         40615\n",
       "5    PART TWO            18               117             3862         67599\n",
       "6    PART TWO            16               117             1511         23173\n",
       "0  PART THREE            17               117             6000        100723\n",
       "1  PART THREE            18                66              809         14342\n",
       "2  PART THREE            18                85             1879         32364\n",
       "3  PART THREE            18               131              786         13909\n",
       "4  PART THREE            16                62               71          1098\n",
       "5  PART THREE            18                74             2486         43374\n",
       "0   PART FOUR            17               117             4858         81445\n",
       "1   PART FOUR            17               111             6221        102834\n",
       "2   PART FOUR            17               111             4087         66243\n",
       "3   PART FOUR            16                73              851         13335\n",
       "4   PART FOUR            17                88              971         16209\n",
       "0   PART FIVE            15                53              104          1514\n",
       "1   PART FIVE            18                77             1891         32964\n",
       "2   PART FIVE            17                76             3386         56799\n",
       "3   PART FIVE            16                83              811         12889\n",
       "0    PART SIX            17                88             4963         81288\n",
       "1    PART SIX            17               131             8642        142398\n",
       "2    PART SIX            16                87             1797         27673\n",
       "0  PART SEVEN            16                87              727         10983\n",
       "1  PART SEVEN            18               131             9200        158402\n",
       "0  PART EIGHT            16                63              807         12818"
      ]
     },
     "execution_count": 255,
     "metadata": {},
     "output_type": "execute_result"
    }
   ],
   "source": [
    "finalDF1=pd.DataFrame(columns=['Part Number','average_word','longest_sentence','total_Sentences','unique_words'])\n",
    "for i,item in enumerate(wordsSentencesDict1):\n",
    "    tempDF =pd.DataFrame( wordsSentencesDict1[item])\n",
    "    tempDF.insert(0,'Part Number',item)\n",
    "    finalDF1=pd.concat([finalDF1, tempDF]).drop_duplicates()\n",
    "    ## drop_duplicates is used to drop the duplicates as same chapter is present in other Parts , else can be retained \n",
    "\n",
    "finalDF1[column_list] = finalDF1[column_list].apply(pd.to_numeric, errors='coerce')\n",
    "finalDF1"
   ]
  },
  {
   "cell_type": "code",
   "execution_count": null,
   "metadata": {
    "collapsed": true
   },
   "outputs": [],
   "source": []
  }
 ],
 "metadata": {
  "anaconda-cloud": {},
  "kernelspec": {
   "display_name": "Python 3",
   "language": "python",
   "name": "python3"
  },
  "language_info": {
   "codemirror_mode": {
    "name": "ipython",
    "version": 3
   },
   "file_extension": ".py",
   "mimetype": "text/x-python",
   "name": "python",
   "nbconvert_exporter": "python",
   "pygments_lexer": "ipython3",
   "version": "3.7.3"
  }
 },
 "nbformat": 4,
 "nbformat_minor": 1
}

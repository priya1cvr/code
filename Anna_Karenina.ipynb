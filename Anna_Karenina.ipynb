{
 "cells": [
  {
   "cell_type": "markdown",
   "metadata": {
    "collapsed": true
   },
   "source": [
    "[Project (“Anna Karenina”)](#section1)<br>\n",
    "\n",
    "which it is  scrambled as follows:\n",
    "\n",
    "1.Shuffled the order of the chapters contained in each part of the book.\n",
    "\n",
    "2.Substituted the numbering of each chapter with the square of the n-th prime number, where n is the original chapter number (e.g. “Chapter 2” becomes “Chapter 9”).\n",
    "\n",
    "3.Selected a randomly selected set of lines, on which we have:\n",
    "      Substituted the space character with the squared or cubed n-th prime, where n is the original chapter number (e.g.    the first line of chapter 1 of Part ONE becomes\n",
    "  “Happy4families4are4all4alike;4every4unhappy4family4is4unhappy4in4its”).\n",
    "  \n",
    "4.Substituted the comma character with ‘foo’ (e.g. the line “the kitchen-maid, and the coachman had given warning“ becomes “the kitchen-maidfoo and the coachman had given warning”).\n"
   ]
  },
  {
   "cell_type": "markdown",
   "metadata": {},
   "source": [
    "[Problem Statement](#section1)<br>\n",
    "1. Compute the number of unique words and the overall the number of sentences.\n",
    "2. Compute the average word-length of a sentence, and the longest one.\n",
    "3. Group above statistics by chapter and by part.\n"
   ]
  },
  {
   "cell_type": "code",
   "execution_count": 66,
   "metadata": {
    "collapsed": true
   },
   "outputs": [],
   "source": [
    "## Organising the Imports \n",
    "import os \n",
    "import re \n",
    "import subprocess\n",
    "import numpy as np\n",
    "import pandas as pd\n",
    "import collections\n",
    "import logging\n",
    "import statistics \n",
    "import math\n",
    "import pandas as pd\n",
    "import matplotlib.pyplot as plt"
   ]
  },
  {
   "cell_type": "code",
   "execution_count": 2,
   "metadata": {
    "collapsed": false
   },
   "outputs": [
    {
     "name": "stdout",
     "output_type": "stream",
     "text": [
      "/Users/pbishwal/Documents/Techie/others/Task_SC/book_scrambled.txt\n"
     ]
    }
   ],
   "source": [
    "basePath= os.path.dirname(os.getcwd())\n",
    "filePath=basePath+\"/Task_SC/book_scrambled.txt\"\n",
    "print(filePath)"
   ]
  },
  {
   "cell_type": "code",
   "execution_count": 3,
   "metadata": {
    "collapsed": true
   },
   "outputs": [],
   "source": [
    "## function to get list of prime numbers between 2 to 200, \n",
    "## assumption that max prime number squared present between 2-200\n",
    "\n",
    "def getPrimeNumbers():\n",
    "    start = 2 \n",
    "    end = 200\n",
    "    primeList=[]\n",
    "    for val in range(start, end + 1): \n",
    "        # If num is divisible by any number   \n",
    "        # between 2 and val, it is not prime  \n",
    "        if val > 1: \n",
    "            for n in range(2, val): \n",
    "                if (val % n) == 0: \n",
    "                    break\n",
    "            else: \n",
    "                primeList.append(val)\n",
    "    return primeList"
   ]
  },
  {
   "cell_type": "code",
   "execution_count": 4,
   "metadata": {
    "collapsed": true
   },
   "outputs": [],
   "source": [
    "primeList=getPrimeNumbers()"
   ]
  },
  {
   "cell_type": "code",
   "execution_count": 5,
   "metadata": {
    "collapsed": false
   },
   "outputs": [
    {
     "data": {
      "text/plain": [
       "[2, 3, 5, 7, 11, 13, 17, 19, 23, 29]"
      ]
     },
     "execution_count": 5,
     "metadata": {},
     "output_type": "execute_result"
    }
   ],
   "source": [
    "primeList[0:10]"
   ]
  },
  {
   "cell_type": "code",
   "execution_count": 6,
   "metadata": {
    "collapsed": true
   },
   "outputs": [],
   "source": [
    "data=[]\n",
    "with open (filePath, \"r\") as myfile:\n",
    "    data = myfile.read().splitlines()\n",
    "    data=list(filter(None, data)) "
   ]
  },
  {
   "cell_type": "code",
   "execution_count": 7,
   "metadata": {
    "collapsed": true
   },
   "outputs": [],
   "source": [
    "## get the index where Chapter is present \n",
    "chapterIndexes=[i for i, item in enumerate(data) if re.search('Chapter', item)]"
   ]
  },
  {
   "cell_type": "code",
   "execution_count": 8,
   "metadata": {
    "collapsed": false
   },
   "outputs": [
    {
     "data": {
      "text/plain": [
       "[53, 197, 261, 403]"
      ]
     },
     "execution_count": 8,
     "metadata": {},
     "output_type": "execute_result"
    }
   ],
   "source": [
    "chapterIndexes[0:4]"
   ]
  },
  {
   "cell_type": "code",
   "execution_count": 9,
   "metadata": {
    "collapsed": true
   },
   "outputs": [],
   "source": [
    "## get the Part Indexes \n",
    "## part indexes can't be found directly as it has multiple occurences \n",
    "## Idea: Get the Chapter Indexes and  PART Lies above it (-1 position of chapter)\n",
    "## GET the partTempIndex where PART occures  and get justBeforePart (-1 from chapter Index) and do an intersection\n",
    "partTempIndex=[i for i, item in enumerate(data) if re.search('PART', item)]\n",
    "justBeforePart=[i-1 for i in chapterIndexes]\n",
    "partIndexes=[value for value in justBeforePart if value in partTempIndex]"
   ]
  },
  {
   "cell_type": "code",
   "execution_count": 10,
   "metadata": {
    "collapsed": false
   },
   "outputs": [
    {
     "data": {
      "text/plain": [
       "[52, 4629, 9998, 13958, 18239, 27804, 27911, 28997, 30336, 37287]"
      ]
     },
     "execution_count": 10,
     "metadata": {},
     "output_type": "execute_result"
    }
   ],
   "source": [
    "partIndexes[0:10]"
   ]
  },
  {
   "cell_type": "code",
   "execution_count": 11,
   "metadata": {
    "collapsed": false
   },
   "outputs": [],
   "source": [
    "def getdictionaryWithInitialData(indexesList):\n",
    "    lastIndexOfData = len(data)\n",
    "    import collections\n",
    "    dt = collections.defaultdict(list)\n",
    "    for i in range(len(indexesList)):\n",
    "        if(i+1<len(indexesList)):\n",
    "            dt[data[indexesList[i]]].append(data[indexesList[i]+1:indexesList[i+1]] )\n",
    "        else:\n",
    "            dt[data[indexesList[i]]].append(data[indexesList[i]+1:lastIndexOfData] )\n",
    "    allDict=dict(dt)\n",
    "    return allDict"
   ]
  },
  {
   "cell_type": "code",
   "execution_count": 12,
   "metadata": {
    "collapsed": true
   },
   "outputs": [],
   "source": [
    "## pass the chapter Indexes and get initial dictionary\n",
    "chapterDictInitial=getdictionaryWithInitialData(chapterIndexes)"
   ]
  },
  {
   "cell_type": "code",
   "execution_count": 15,
   "metadata": {
    "collapsed": false
   },
   "outputs": [
    {
     "name": "stdout",
     "output_type": "stream",
     "text": [
      "key :  Chapter 961  Number of elements:  36\n",
      "key :  Chapter 2809  Number of elements:  36\n",
      "key :  Chapter 6889  Number of elements:  35\n",
      "key :  Chapter 10609  Number of elements:  30\n",
      "key :  Chapter 9  Number of elements:  36\n",
      "key :  Chapter 6241  Number of elements:  35\n",
      "key :  Chapter 49  Number of elements:  36\n",
      "key :  Chapter 16129  Number of elements:  30\n",
      "key :  Chapter 11449  Number of elements:  30\n",
      "key :  Chapter 289  Number of elements:  36\n",
      "key :  Chapter 25  Number of elements:  36\n",
      "key :  Chapter 1369  Number of elements:  36\n",
      "key :  Chapter 361  Number of elements:  36\n",
      "key :  Chapter 18769  Number of elements:  19\n",
      "key :  Chapter 169  Number of elements:  36\n",
      "key :  Chapter 12769  Number of elements:  30\n",
      "key :  Chapter 3481  Number of elements:  36\n",
      "key :  Chapter 11881  Number of elements:  30\n",
      "key :  Chapter 7921  Number of elements:  30\n",
      "key :  Chapter 841  Number of elements:  36\n",
      "key :  Chapter 1681  Number of elements:  36\n",
      "key :  Chapter 5041  Number of elements:  35\n",
      "key :  Chapter 17161  Number of elements:  28\n",
      "key :  Chapter 10201  Number of elements:  30\n",
      "key :  Chapter 4489  Number of elements:  36\n",
      "key :  Chapter 19321  Number of elements:  15\n",
      "key :  Chapter 2209  Number of elements:  36\n",
      "key :  Chapter 529  Number of elements:  36\n",
      "key :  Chapter 5329  Number of elements:  35\n",
      "key :  Chapter 9409  Number of elements:  30\n",
      "key :  Chapter 3721  Number of elements:  36\n",
      "key :  Chapter 1849  Number of elements:  36\n",
      "key :  Chapter 4  Number of elements:  36\n",
      "key :  Chapter 121  Number of elements:  36\n",
      "key :  Chapter 22201  Number of elements:  7\n"
     ]
    }
   ],
   "source": [
    "## print key and numeber of elements in initial Dictionory found above\n",
    "for key in chapterDictInitial:\n",
    "    print(\"key : \",key, \" Number of elements: \",len(chapterDictInitial[key]))"
   ]
  },
  {
   "cell_type": "code",
   "execution_count": 16,
   "metadata": {
    "collapsed": false
   },
   "outputs": [],
   "source": [
    "## function to unscramble the text and replace nth square/cube in sentences with space and foo by commas\n",
    "\n",
    "def unscrambledDictionary(initialDict):\n",
    "    import collections\n",
    "    import logging\n",
    "    newdt = collections.defaultdict(list)\n",
    "    for i,item in enumerate(initialDict):\n",
    "        numElementsInKey=initialDict[item]\n",
    "        logging.info('Processing for key :',item,' having ',numElementsInKey)\n",
    "        for j in range(len(numElementsInKey)):      \n",
    "            r=initialDict.get(item)[j]\n",
    "            s=[re.sub(\"\\d+\", \" \", words) for words in r]\n",
    "            p=[', '.join(s).replace('foo',\",\")]\n",
    "            newdt[item].append(p)\n",
    "            \n",
    "    allNewDict=dict(newdt)\n",
    "    return allNewDict "
   ]
  },
  {
   "cell_type": "code",
   "execution_count": 17,
   "metadata": {
    "collapsed": true
   },
   "outputs": [],
   "source": [
    "unscrambleDict=unscrambledDictionary(chapterDictInitial)"
   ]
  },
  {
   "cell_type": "code",
   "execution_count": 18,
   "metadata": {
    "collapsed": false
   },
   "outputs": [
    {
     "name": "stdout",
     "output_type": "stream",
     "text": [
      "key :  Chapter 961  Number of elements:  36\n",
      "key :  Chapter 2809  Number of elements:  36\n",
      "key :  Chapter 6889  Number of elements:  35\n",
      "key :  Chapter 10609  Number of elements:  30\n",
      "key :  Chapter 9  Number of elements:  36\n",
      "key :  Chapter 6241  Number of elements:  35\n",
      "key :  Chapter 49  Number of elements:  36\n",
      "key :  Chapter 16129  Number of elements:  30\n",
      "key :  Chapter 11449  Number of elements:  30\n",
      "key :  Chapter 289  Number of elements:  36\n",
      "key :  Chapter 25  Number of elements:  36\n",
      "key :  Chapter 1369  Number of elements:  36\n",
      "key :  Chapter 361  Number of elements:  36\n",
      "key :  Chapter 18769  Number of elements:  19\n",
      "key :  Chapter 169  Number of elements:  36\n",
      "key :  Chapter 12769  Number of elements:  30\n",
      "key :  Chapter 3481  Number of elements:  36\n",
      "key :  Chapter 11881  Number of elements:  30\n",
      "key :  Chapter 7921  Number of elements:  30\n",
      "key :  Chapter 841  Number of elements:  36\n",
      "key :  Chapter 1681  Number of elements:  36\n",
      "key :  Chapter 5041  Number of elements:  35\n",
      "key :  Chapter 17161  Number of elements:  28\n",
      "key :  Chapter 10201  Number of elements:  30\n",
      "key :  Chapter 4489  Number of elements:  36\n",
      "key :  Chapter 19321  Number of elements:  15\n",
      "key :  Chapter 2209  Number of elements:  36\n",
      "key :  Chapter 529  Number of elements:  36\n",
      "key :  Chapter 5329  Number of elements:  35\n",
      "key :  Chapter 9409  Number of elements:  30\n",
      "key :  Chapter 3721  Number of elements:  36\n",
      "key :  Chapter 1849  Number of elements:  36\n",
      "key :  Chapter 4  Number of elements:  36\n",
      "key :  Chapter 121  Number of elements:  36\n",
      "key :  Chapter 22201  Number of elements:  7\n"
     ]
    }
   ],
   "source": [
    "## print key and numeber of elements in initial Dictionory found above\n",
    "## it should stay same as before unscrambling ,only difference is its clean now removing all unwanted stuffs\n",
    "\n",
    "for key in unscrambleDict:\n",
    "    print(\"key : \",key, \" Number of elements: \",len(unscrambleDict[key]))"
   ]
  },
  {
   "cell_type": "code",
   "execution_count": 28,
   "metadata": {
    "collapsed": false
   },
   "outputs": [],
   "source": [
    "## Lets check the value of unscrambleDict for a chapter\n",
    "##unscrambleDict['Chapter 961'][0]\n",
    "## below output shows it has now removed unwanted number present\n",
    "## code commented not to show full output \n",
    "\n",
    "## This is below ouput of above \n",
    "'''\n",
    "\n",
    "['Levin emptied his glass, and they were silent for a while., \n",
    "“There’s one other thing I ought to tell you. Do you know Vronsky?”, Stepan Arkadyevitch asked Levin.,\n",
    "......]\n",
    "'''"
   ]
  },
  {
   "cell_type": "code",
   "execution_count": 19,
   "metadata": {
    "collapsed": true
   },
   "outputs": [],
   "source": [
    "## function to get the number of sentences ,unique words ,average word length and longest sentence\n",
    "def getFinalOutput(unscrambleDict):\n",
    "    import collections\n",
    "    import logging\n",
    "    wordsSentencesForKey = collections.defaultdict(list)\n",
    "    \n",
    "    for i,item in enumerate(unscrambleDict):\n",
    "        numElementsInKey=unscrambleDict[item]\n",
    "        logging.info('Processing for key :',item,' having ',len(numElementsInKey))\n",
    "        for j in range(len(numElementsInKey)): \n",
    "            for k in unscrambleDict.get(item)[j]:\n",
    "                w=k.split(\".\")\n",
    "                totalSentences=len(w)\n",
    "                wordsInSentences=[len(set(w[l].split(\" \"))) for l in range(len(w)) ]\n",
    "                result={\"total_Sentences\":totalSentences,\"unique_words\":sum(wordsInSentences),\"longest_sentence\":max(wordsInSentences),\n",
    "                                       \"average_word_length\":math.ceil(statistics.mean(wordsInSentences))}\n",
    "                wordsSentencesForKey[item].append(result)\n",
    "    \n",
    "    wordsSentencesDict=dict(wordsSentencesForKey)\n",
    "    return wordsSentencesDict"
   ]
  },
  {
   "cell_type": "code",
   "execution_count": 20,
   "metadata": {
    "collapsed": true
   },
   "outputs": [],
   "source": [
    "wordsSentencesChapter=getFinalOutput(unscrambleDict)"
   ]
  },
  {
   "cell_type": "code",
   "execution_count": 21,
   "metadata": {
    "collapsed": false
   },
   "outputs": [
    {
     "data": {
      "text/plain": [
       "[{'total_Sentences': 120,\n",
       "  'unique_words': 1512,\n",
       "  'longest_sentence': 50,\n",
       "  'average_word_length': 13},\n",
       " {'total_Sentences': 45,\n",
       "  'unique_words': 709,\n",
       "  'longest_sentence': 38,\n",
       "  'average_word_length': 16},\n",
       " {'total_Sentences': 120,\n",
       "  'unique_words': 1512,\n",
       "  'longest_sentence': 50,\n",
       "  'average_word_length': 13},\n",
       " {'total_Sentences': 46,\n",
       "  'unique_words': 1052,\n",
       "  'longest_sentence': 52,\n",
       "  'average_word_length': 23},\n",
       " {'total_Sentences': 45,\n",
       "  'unique_words': 709,\n",
       "  'longest_sentence': 38,\n",
       "  'average_word_length': 16},\n",
       " {'total_Sentences': 120,\n",
       "  'unique_words': 1512,\n",
       "  'longest_sentence': 50,\n",
       "  'average_word_length': 13},\n",
       " {'total_Sentences': 46,\n",
       "  'unique_words': 1052,\n",
       "  'longest_sentence': 52,\n",
       "  'average_word_length': 23},\n",
       " {'total_Sentences': 120,\n",
       "  'unique_words': 1512,\n",
       "  'longest_sentence': 50,\n",
       "  'average_word_length': 13},\n",
       " {'total_Sentences': 45,\n",
       "  'unique_words': 709,\n",
       "  'longest_sentence': 38,\n",
       "  'average_word_length': 16},\n",
       " {'total_Sentences': 34,\n",
       "  'unique_words': 623,\n",
       "  'longest_sentence': 49,\n",
       "  'average_word_length': 19},\n",
       " {'total_Sentences': 45,\n",
       "  'unique_words': 709,\n",
       "  'longest_sentence': 38,\n",
       "  'average_word_length': 16},\n",
       " {'total_Sentences': 34,\n",
       "  'unique_words': 623,\n",
       "  'longest_sentence': 49,\n",
       "  'average_word_length': 19},\n",
       " {'total_Sentences': 91,\n",
       "  'unique_words': 1792,\n",
       "  'longest_sentence': 63,\n",
       "  'average_word_length': 20},\n",
       " {'total_Sentences': 120,\n",
       "  'unique_words': 1512,\n",
       "  'longest_sentence': 50,\n",
       "  'average_word_length': 13},\n",
       " {'total_Sentences': 46,\n",
       "  'unique_words': 1052,\n",
       "  'longest_sentence': 52,\n",
       "  'average_word_length': 23},\n",
       " {'total_Sentences': 46,\n",
       "  'unique_words': 1052,\n",
       "  'longest_sentence': 52,\n",
       "  'average_word_length': 23},\n",
       " {'total_Sentences': 91,\n",
       "  'unique_words': 1792,\n",
       "  'longest_sentence': 63,\n",
       "  'average_word_length': 20},\n",
       " {'total_Sentences': 150,\n",
       "  'unique_words': 2314,\n",
       "  'longest_sentence': 68,\n",
       "  'average_word_length': 16},\n",
       " {'total_Sentences': 45,\n",
       "  'unique_words': 709,\n",
       "  'longest_sentence': 38,\n",
       "  'average_word_length': 16},\n",
       " {'total_Sentences': 34,\n",
       "  'unique_words': 623,\n",
       "  'longest_sentence': 49,\n",
       "  'average_word_length': 19},\n",
       " {'total_Sentences': 124,\n",
       "  'unique_words': 1627,\n",
       "  'longest_sentence': 50,\n",
       "  'average_word_length': 14},\n",
       " {'total_Sentences': 65,\n",
       "  'unique_words': 1000,\n",
       "  'longest_sentence': 39,\n",
       "  'average_word_length': 16},\n",
       " {'total_Sentences': 45,\n",
       "  'unique_words': 709,\n",
       "  'longest_sentence': 38,\n",
       "  'average_word_length': 16},\n",
       " {'total_Sentences': 46,\n",
       "  'unique_words': 1052,\n",
       "  'longest_sentence': 52,\n",
       "  'average_word_length': 23},\n",
       " {'total_Sentences': 91,\n",
       "  'unique_words': 1792,\n",
       "  'longest_sentence': 63,\n",
       "  'average_word_length': 20},\n",
       " {'total_Sentences': 150,\n",
       "  'unique_words': 2314,\n",
       "  'longest_sentence': 68,\n",
       "  'average_word_length': 16},\n",
       " {'total_Sentences': 120,\n",
       "  'unique_words': 1512,\n",
       "  'longest_sentence': 50,\n",
       "  'average_word_length': 13},\n",
       " {'total_Sentences': 34,\n",
       "  'unique_words': 623,\n",
       "  'longest_sentence': 49,\n",
       "  'average_word_length': 19},\n",
       " {'total_Sentences': 120,\n",
       "  'unique_words': 1512,\n",
       "  'longest_sentence': 50,\n",
       "  'average_word_length': 13},\n",
       " {'total_Sentences': 46,\n",
       "  'unique_words': 1052,\n",
       "  'longest_sentence': 52,\n",
       "  'average_word_length': 23},\n",
       " {'total_Sentences': 65,\n",
       "  'unique_words': 1000,\n",
       "  'longest_sentence': 39,\n",
       "  'average_word_length': 16},\n",
       " {'total_Sentences': 47,\n",
       "  'unique_words': 1029,\n",
       "  'longest_sentence': 72,\n",
       "  'average_word_length': 22},\n",
       " {'total_Sentences': 45,\n",
       "  'unique_words': 709,\n",
       "  'longest_sentence': 38,\n",
       "  'average_word_length': 16},\n",
       " {'total_Sentences': 34,\n",
       "  'unique_words': 623,\n",
       "  'longest_sentence': 49,\n",
       "  'average_word_length': 19},\n",
       " {'total_Sentences': 91,\n",
       "  'unique_words': 1792,\n",
       "  'longest_sentence': 63,\n",
       "  'average_word_length': 20},\n",
       " {'total_Sentences': 150,\n",
       "  'unique_words': 2314,\n",
       "  'longest_sentence': 68,\n",
       "  'average_word_length': 16}]"
      ]
     },
     "execution_count": 21,
     "metadata": {},
     "output_type": "execute_result"
    }
   ],
   "source": [
    "## Lets see the ouput of a chapter \n",
    "wordsSentencesChapter['Chapter 961']"
   ]
  },
  {
   "cell_type": "code",
   "execution_count": 22,
   "metadata": {
    "collapsed": false
   },
   "outputs": [],
   "source": [
    "#### Converting the above ouput to Pandas DataFrame \n",
    "\n",
    "column_list=['average_word_length','longest_sentence','total_Sentences','unique_words']\n",
    "finalDFByChapter=pd.DataFrame(columns=['Original Chapter','average_word_length','longest_sentence','total_Sentences','unique_words'])\n",
    "for i,item in enumerate(wordsSentencesChapter):\n",
    "    tempDF =pd.DataFrame( wordsSentencesChapter[item]).apply(pd.to_numeric)\n",
    "    val=math.ceil(np.sqrt(int(item.split(\"Chapter \")[1])))\n",
    "    ## mapped chapter numbers to the original chapter and then get the mapping for nth prime number\n",
    "    tempDF.insert(0,'Original Chapter',primeList.index(val)+1)\n",
    "    finalDFByChapter=pd.concat([finalDFByChapter, tempDF]).drop_duplicates()\n",
    "    ## drop_duplicates is used to drop the duplicates as same chapter is present in other Parts , else can be retained \n",
    "finalDFByChapter[column_list] = finalDFByChapter[column_list].apply(pd.to_numeric, errors='coerce')"
   ]
  },
  {
   "cell_type": "code",
   "execution_count": 23,
   "metadata": {
    "collapsed": false
   },
   "outputs": [
    {
     "data": {
      "text/html": [
       "<div>\n",
       "<style scoped>\n",
       "    .dataframe tbody tr th:only-of-type {\n",
       "        vertical-align: middle;\n",
       "    }\n",
       "\n",
       "    .dataframe tbody tr th {\n",
       "        vertical-align: top;\n",
       "    }\n",
       "\n",
       "    .dataframe thead th {\n",
       "        text-align: right;\n",
       "    }\n",
       "</style>\n",
       "<table border=\"1\" class=\"dataframe\">\n",
       "  <thead>\n",
       "    <tr style=\"text-align: right;\">\n",
       "      <th></th>\n",
       "      <th>Original Chapter</th>\n",
       "      <th>average_word_length</th>\n",
       "      <th>longest_sentence</th>\n",
       "      <th>total_Sentences</th>\n",
       "      <th>unique_words</th>\n",
       "    </tr>\n",
       "  </thead>\n",
       "  <tbody>\n",
       "    <tr>\n",
       "      <th>0</th>\n",
       "      <td>11</td>\n",
       "      <td>13</td>\n",
       "      <td>50</td>\n",
       "      <td>120</td>\n",
       "      <td>1512</td>\n",
       "    </tr>\n",
       "    <tr>\n",
       "      <th>1</th>\n",
       "      <td>11</td>\n",
       "      <td>16</td>\n",
       "      <td>38</td>\n",
       "      <td>45</td>\n",
       "      <td>709</td>\n",
       "    </tr>\n",
       "    <tr>\n",
       "      <th>3</th>\n",
       "      <td>11</td>\n",
       "      <td>23</td>\n",
       "      <td>52</td>\n",
       "      <td>46</td>\n",
       "      <td>1052</td>\n",
       "    </tr>\n",
       "    <tr>\n",
       "      <th>9</th>\n",
       "      <td>11</td>\n",
       "      <td>19</td>\n",
       "      <td>49</td>\n",
       "      <td>34</td>\n",
       "      <td>623</td>\n",
       "    </tr>\n",
       "    <tr>\n",
       "      <th>12</th>\n",
       "      <td>11</td>\n",
       "      <td>20</td>\n",
       "      <td>63</td>\n",
       "      <td>91</td>\n",
       "      <td>1792</td>\n",
       "    </tr>\n",
       "    <tr>\n",
       "      <th>17</th>\n",
       "      <td>11</td>\n",
       "      <td>16</td>\n",
       "      <td>68</td>\n",
       "      <td>150</td>\n",
       "      <td>2314</td>\n",
       "    </tr>\n",
       "    <tr>\n",
       "      <th>20</th>\n",
       "      <td>11</td>\n",
       "      <td>14</td>\n",
       "      <td>50</td>\n",
       "      <td>124</td>\n",
       "      <td>1627</td>\n",
       "    </tr>\n",
       "    <tr>\n",
       "      <th>21</th>\n",
       "      <td>11</td>\n",
       "      <td>16</td>\n",
       "      <td>39</td>\n",
       "      <td>65</td>\n",
       "      <td>1000</td>\n",
       "    </tr>\n",
       "    <tr>\n",
       "      <th>31</th>\n",
       "      <td>11</td>\n",
       "      <td>22</td>\n",
       "      <td>72</td>\n",
       "      <td>47</td>\n",
       "      <td>1029</td>\n",
       "    </tr>\n",
       "    <tr>\n",
       "      <th>0</th>\n",
       "      <td>16</td>\n",
       "      <td>18</td>\n",
       "      <td>74</td>\n",
       "      <td>38</td>\n",
       "      <td>677</td>\n",
       "    </tr>\n",
       "    <tr>\n",
       "      <th>1</th>\n",
       "      <td>16</td>\n",
       "      <td>15</td>\n",
       "      <td>44</td>\n",
       "      <td>114</td>\n",
       "      <td>1619</td>\n",
       "    </tr>\n",
       "    <tr>\n",
       "      <th>3</th>\n",
       "      <td>16</td>\n",
       "      <td>15</td>\n",
       "      <td>53</td>\n",
       "      <td>90</td>\n",
       "      <td>1314</td>\n",
       "    </tr>\n",
       "    <tr>\n",
       "      <th>9</th>\n",
       "      <td>16</td>\n",
       "      <td>14</td>\n",
       "      <td>48</td>\n",
       "      <td>91</td>\n",
       "      <td>1264</td>\n",
       "    </tr>\n",
       "    <tr>\n",
       "      <th>12</th>\n",
       "      <td>16</td>\n",
       "      <td>13</td>\n",
       "      <td>58</td>\n",
       "      <td>90</td>\n",
       "      <td>1139</td>\n",
       "    </tr>\n",
       "    <tr>\n",
       "      <th>16</th>\n",
       "      <td>16</td>\n",
       "      <td>20</td>\n",
       "      <td>66</td>\n",
       "      <td>95</td>\n",
       "      <td>1809</td>\n",
       "    </tr>\n",
       "    <tr>\n",
       "      <th>26</th>\n",
       "      <td>16</td>\n",
       "      <td>18</td>\n",
       "      <td>62</td>\n",
       "      <td>53</td>\n",
       "      <td>922</td>\n",
       "    </tr>\n",
       "    <tr>\n",
       "      <th>29</th>\n",
       "      <td>16</td>\n",
       "      <td>19</td>\n",
       "      <td>83</td>\n",
       "      <td>63</td>\n",
       "      <td>1173</td>\n",
       "    </tr>\n",
       "    <tr>\n",
       "      <th>0</th>\n",
       "      <td>23</td>\n",
       "      <td>21</td>\n",
       "      <td>54</td>\n",
       "      <td>74</td>\n",
       "      <td>1520</td>\n",
       "    </tr>\n",
       "    <tr>\n",
       "      <th>2</th>\n",
       "      <td>23</td>\n",
       "      <td>14</td>\n",
       "      <td>59</td>\n",
       "      <td>78</td>\n",
       "      <td>1036</td>\n",
       "    </tr>\n",
       "    <tr>\n",
       "      <th>3</th>\n",
       "      <td>23</td>\n",
       "      <td>18</td>\n",
       "      <td>62</td>\n",
       "      <td>77</td>\n",
       "      <td>1355</td>\n",
       "    </tr>\n",
       "  </tbody>\n",
       "</table>\n",
       "</div>"
      ],
      "text/plain": [
       "   Original Chapter  average_word_length  longest_sentence  total_Sentences  \\\n",
       "0                11                   13                50              120   \n",
       "1                11                   16                38               45   \n",
       "3                11                   23                52               46   \n",
       "9                11                   19                49               34   \n",
       "12               11                   20                63               91   \n",
       "17               11                   16                68              150   \n",
       "20               11                   14                50              124   \n",
       "21               11                   16                39               65   \n",
       "31               11                   22                72               47   \n",
       "0                16                   18                74               38   \n",
       "1                16                   15                44              114   \n",
       "3                16                   15                53               90   \n",
       "9                16                   14                48               91   \n",
       "12               16                   13                58               90   \n",
       "16               16                   20                66               95   \n",
       "26               16                   18                62               53   \n",
       "29               16                   19                83               63   \n",
       "0                23                   21                54               74   \n",
       "2                23                   14                59               78   \n",
       "3                23                   18                62               77   \n",
       "\n",
       "    unique_words  \n",
       "0           1512  \n",
       "1            709  \n",
       "3           1052  \n",
       "9            623  \n",
       "12          1792  \n",
       "17          2314  \n",
       "20          1627  \n",
       "21          1000  \n",
       "31          1029  \n",
       "0            677  \n",
       "1           1619  \n",
       "3           1314  \n",
       "9           1264  \n",
       "12          1139  \n",
       "16          1809  \n",
       "26           922  \n",
       "29          1173  \n",
       "0           1520  \n",
       "2           1036  \n",
       "3           1355  "
      ]
     },
     "execution_count": 23,
     "metadata": {},
     "output_type": "execute_result"
    }
   ],
   "source": [
    "finalDFByChapter.head(20)"
   ]
  },
  {
   "cell_type": "code",
   "execution_count": 24,
   "metadata": {
    "collapsed": false
   },
   "outputs": [
    {
     "data": {
      "text/plain": [
       "Original Chapter       253\n",
       "average_word_length    253\n",
       "longest_sentence       253\n",
       "total_Sentences        253\n",
       "unique_words           253\n",
       "dtype: int64"
      ]
     },
     "execution_count": 24,
     "metadata": {},
     "output_type": "execute_result"
    }
   ],
   "source": [
    "finalDFByChapter.count()"
   ]
  },
  {
   "cell_type": "code",
   "execution_count": 38,
   "metadata": {
    "collapsed": false
   },
   "outputs": [
    {
     "data": {
      "text/html": [
       "<div>\n",
       "<style scoped>\n",
       "    .dataframe tbody tr th:only-of-type {\n",
       "        vertical-align: middle;\n",
       "    }\n",
       "\n",
       "    .dataframe tbody tr th {\n",
       "        vertical-align: top;\n",
       "    }\n",
       "\n",
       "    .dataframe thead th {\n",
       "        text-align: right;\n",
       "    }\n",
       "</style>\n",
       "<table border=\"1\" class=\"dataframe\">\n",
       "  <thead>\n",
       "    <tr style=\"text-align: right;\">\n",
       "      <th></th>\n",
       "      <th>average_word_length</th>\n",
       "      <th>total_Sentences</th>\n",
       "      <th>longest_sentence</th>\n",
       "      <th>unique_words</th>\n",
       "    </tr>\n",
       "    <tr>\n",
       "      <th>Original Chapter</th>\n",
       "      <th></th>\n",
       "      <th></th>\n",
       "      <th></th>\n",
       "      <th></th>\n",
       "    </tr>\n",
       "  </thead>\n",
       "  <tbody>\n",
       "    <tr>\n",
       "      <th>1</th>\n",
       "      <td>21.500000</td>\n",
       "      <td>502</td>\n",
       "      <td>71</td>\n",
       "      <td>1261.500000</td>\n",
       "    </tr>\n",
       "    <tr>\n",
       "      <th>2</th>\n",
       "      <td>15.125000</td>\n",
       "      <td>782</td>\n",
       "      <td>111</td>\n",
       "      <td>1373.875000</td>\n",
       "    </tr>\n",
       "    <tr>\n",
       "      <th>3</th>\n",
       "      <td>16.888889</td>\n",
       "      <td>914</td>\n",
       "      <td>78</td>\n",
       "      <td>1537.000000</td>\n",
       "    </tr>\n",
       "    <tr>\n",
       "      <th>4</th>\n",
       "      <td>17.750000</td>\n",
       "      <td>653</td>\n",
       "      <td>88</td>\n",
       "      <td>1396.375000</td>\n",
       "    </tr>\n",
       "    <tr>\n",
       "      <th>5</th>\n",
       "      <td>18.222222</td>\n",
       "      <td>792</td>\n",
       "      <td>98</td>\n",
       "      <td>1584.444444</td>\n",
       "    </tr>\n",
       "    <tr>\n",
       "      <th>6</th>\n",
       "      <td>18.625000</td>\n",
       "      <td>550</td>\n",
       "      <td>117</td>\n",
       "      <td>1147.500000</td>\n",
       "    </tr>\n",
       "    <tr>\n",
       "      <th>7</th>\n",
       "      <td>19.375000</td>\n",
       "      <td>650</td>\n",
       "      <td>93</td>\n",
       "      <td>1394.750000</td>\n",
       "    </tr>\n",
       "    <tr>\n",
       "      <th>8</th>\n",
       "      <td>20.125000</td>\n",
       "      <td>534</td>\n",
       "      <td>62</td>\n",
       "      <td>1219.375000</td>\n",
       "    </tr>\n",
       "    <tr>\n",
       "      <th>9</th>\n",
       "      <td>19.222222</td>\n",
       "      <td>764</td>\n",
       "      <td>84</td>\n",
       "      <td>1511.333333</td>\n",
       "    </tr>\n",
       "    <tr>\n",
       "      <th>10</th>\n",
       "      <td>17.625000</td>\n",
       "      <td>749</td>\n",
       "      <td>83</td>\n",
       "      <td>1388.875000</td>\n",
       "    </tr>\n",
       "    <tr>\n",
       "      <th>11</th>\n",
       "      <td>17.666667</td>\n",
       "      <td>722</td>\n",
       "      <td>72</td>\n",
       "      <td>1295.333333</td>\n",
       "    </tr>\n",
       "    <tr>\n",
       "      <th>12</th>\n",
       "      <td>18.875000</td>\n",
       "      <td>580</td>\n",
       "      <td>65</td>\n",
       "      <td>1301.000000</td>\n",
       "    </tr>\n",
       "    <tr>\n",
       "      <th>13</th>\n",
       "      <td>18.375000</td>\n",
       "      <td>627</td>\n",
       "      <td>92</td>\n",
       "      <td>1353.000000</td>\n",
       "    </tr>\n",
       "    <tr>\n",
       "      <th>14</th>\n",
       "      <td>19.375000</td>\n",
       "      <td>735</td>\n",
       "      <td>93</td>\n",
       "      <td>1679.500000</td>\n",
       "    </tr>\n",
       "    <tr>\n",
       "      <th>15</th>\n",
       "      <td>15.500000</td>\n",
       "      <td>873</td>\n",
       "      <td>131</td>\n",
       "      <td>1315.600000</td>\n",
       "    </tr>\n",
       "    <tr>\n",
       "      <th>16</th>\n",
       "      <td>16.500000</td>\n",
       "      <td>634</td>\n",
       "      <td>83</td>\n",
       "      <td>1239.625000</td>\n",
       "    </tr>\n",
       "    <tr>\n",
       "      <th>17</th>\n",
       "      <td>16.875000</td>\n",
       "      <td>815</td>\n",
       "      <td>82</td>\n",
       "      <td>1596.750000</td>\n",
       "    </tr>\n",
       "    <tr>\n",
       "      <th>18</th>\n",
       "      <td>16.875000</td>\n",
       "      <td>699</td>\n",
       "      <td>65</td>\n",
       "      <td>1284.500000</td>\n",
       "    </tr>\n",
       "    <tr>\n",
       "      <th>19</th>\n",
       "      <td>17.250000</td>\n",
       "      <td>954</td>\n",
       "      <td>87</td>\n",
       "      <td>1794.000000</td>\n",
       "    </tr>\n",
       "    <tr>\n",
       "      <th>20</th>\n",
       "      <td>16.571429</td>\n",
       "      <td>649</td>\n",
       "      <td>64</td>\n",
       "      <td>1464.000000</td>\n",
       "    </tr>\n",
       "    <tr>\n",
       "      <th>21</th>\n",
       "      <td>16.571429</td>\n",
       "      <td>748</td>\n",
       "      <td>66</td>\n",
       "      <td>1575.428571</td>\n",
       "    </tr>\n",
       "    <tr>\n",
       "      <th>22</th>\n",
       "      <td>17.428571</td>\n",
       "      <td>731</td>\n",
       "      <td>74</td>\n",
       "      <td>1738.857143</td>\n",
       "    </tr>\n",
       "    <tr>\n",
       "      <th>23</th>\n",
       "      <td>17.750000</td>\n",
       "      <td>627</td>\n",
       "      <td>63</td>\n",
       "      <td>1261.250000</td>\n",
       "    </tr>\n",
       "    <tr>\n",
       "      <th>24</th>\n",
       "      <td>18.666667</td>\n",
       "      <td>567</td>\n",
       "      <td>72</td>\n",
       "      <td>1579.166667</td>\n",
       "    </tr>\n",
       "    <tr>\n",
       "      <th>25</th>\n",
       "      <td>18.142857</td>\n",
       "      <td>663</td>\n",
       "      <td>73</td>\n",
       "      <td>1519.714286</td>\n",
       "    </tr>\n",
       "    <tr>\n",
       "      <th>26</th>\n",
       "      <td>22.166667</td>\n",
       "      <td>402</td>\n",
       "      <td>77</td>\n",
       "      <td>1432.333333</td>\n",
       "    </tr>\n",
       "    <tr>\n",
       "      <th>27</th>\n",
       "      <td>17.166667</td>\n",
       "      <td>463</td>\n",
       "      <td>66</td>\n",
       "      <td>1241.333333</td>\n",
       "    </tr>\n",
       "    <tr>\n",
       "      <th>28</th>\n",
       "      <td>17.000000</td>\n",
       "      <td>528</td>\n",
       "      <td>85</td>\n",
       "      <td>1408.000000</td>\n",
       "    </tr>\n",
       "    <tr>\n",
       "      <th>29</th>\n",
       "      <td>19.000000</td>\n",
       "      <td>508</td>\n",
       "      <td>65</td>\n",
       "      <td>1438.000000</td>\n",
       "    </tr>\n",
       "    <tr>\n",
       "      <th>30</th>\n",
       "      <td>19.000000</td>\n",
       "      <td>434</td>\n",
       "      <td>87</td>\n",
       "      <td>1272.333333</td>\n",
       "    </tr>\n",
       "    <tr>\n",
       "      <th>31</th>\n",
       "      <td>18.428571</td>\n",
       "      <td>547</td>\n",
       "      <td>67</td>\n",
       "      <td>1389.142857</td>\n",
       "    </tr>\n",
       "    <tr>\n",
       "      <th>32</th>\n",
       "      <td>15.571429</td>\n",
       "      <td>588</td>\n",
       "      <td>64</td>\n",
       "      <td>1229.285714</td>\n",
       "    </tr>\n",
       "    <tr>\n",
       "      <th>33</th>\n",
       "      <td>18.750000</td>\n",
       "      <td>492</td>\n",
       "      <td>55</td>\n",
       "      <td>2016.750000</td>\n",
       "    </tr>\n",
       "    <tr>\n",
       "      <th>34</th>\n",
       "      <td>15.666667</td>\n",
       "      <td>326</td>\n",
       "      <td>65</td>\n",
       "      <td>1666.666667</td>\n",
       "    </tr>\n",
       "    <tr>\n",
       "      <th>35</th>\n",
       "      <td>13.000000</td>\n",
       "      <td>278</td>\n",
       "      <td>58</td>\n",
       "      <td>1789.000000</td>\n",
       "    </tr>\n",
       "  </tbody>\n",
       "</table>\n",
       "</div>"
      ],
      "text/plain": [
       "                  average_word_length  total_Sentences  longest_sentence  \\\n",
       "Original Chapter                                                           \n",
       "1                           21.500000              502                71   \n",
       "2                           15.125000              782               111   \n",
       "3                           16.888889              914                78   \n",
       "4                           17.750000              653                88   \n",
       "5                           18.222222              792                98   \n",
       "6                           18.625000              550               117   \n",
       "7                           19.375000              650                93   \n",
       "8                           20.125000              534                62   \n",
       "9                           19.222222              764                84   \n",
       "10                          17.625000              749                83   \n",
       "11                          17.666667              722                72   \n",
       "12                          18.875000              580                65   \n",
       "13                          18.375000              627                92   \n",
       "14                          19.375000              735                93   \n",
       "15                          15.500000              873               131   \n",
       "16                          16.500000              634                83   \n",
       "17                          16.875000              815                82   \n",
       "18                          16.875000              699                65   \n",
       "19                          17.250000              954                87   \n",
       "20                          16.571429              649                64   \n",
       "21                          16.571429              748                66   \n",
       "22                          17.428571              731                74   \n",
       "23                          17.750000              627                63   \n",
       "24                          18.666667              567                72   \n",
       "25                          18.142857              663                73   \n",
       "26                          22.166667              402                77   \n",
       "27                          17.166667              463                66   \n",
       "28                          17.000000              528                85   \n",
       "29                          19.000000              508                65   \n",
       "30                          19.000000              434                87   \n",
       "31                          18.428571              547                67   \n",
       "32                          15.571429              588                64   \n",
       "33                          18.750000              492                55   \n",
       "34                          15.666667              326                65   \n",
       "35                          13.000000              278                58   \n",
       "\n",
       "                  unique_words  \n",
       "Original Chapter                \n",
       "1                  1261.500000  \n",
       "2                  1373.875000  \n",
       "3                  1537.000000  \n",
       "4                  1396.375000  \n",
       "5                  1584.444444  \n",
       "6                  1147.500000  \n",
       "7                  1394.750000  \n",
       "8                  1219.375000  \n",
       "9                  1511.333333  \n",
       "10                 1388.875000  \n",
       "11                 1295.333333  \n",
       "12                 1301.000000  \n",
       "13                 1353.000000  \n",
       "14                 1679.500000  \n",
       "15                 1315.600000  \n",
       "16                 1239.625000  \n",
       "17                 1596.750000  \n",
       "18                 1284.500000  \n",
       "19                 1794.000000  \n",
       "20                 1464.000000  \n",
       "21                 1575.428571  \n",
       "22                 1738.857143  \n",
       "23                 1261.250000  \n",
       "24                 1579.166667  \n",
       "25                 1519.714286  \n",
       "26                 1432.333333  \n",
       "27                 1241.333333  \n",
       "28                 1408.000000  \n",
       "29                 1438.000000  \n",
       "30                 1272.333333  \n",
       "31                 1389.142857  \n",
       "32                 1229.285714  \n",
       "33                 2016.750000  \n",
       "34                 1666.666667  \n",
       "35                 1789.000000  "
      ]
     },
     "execution_count": 38,
     "metadata": {},
     "output_type": "execute_result"
    }
   ],
   "source": [
    "finalDFByChapter.groupby(['Original Chapter']).agg({'average_word_length':'mean', 'total_Sentences':'sum','longest_sentence':'max','unique_words':'mean'})"
   ]
  },
  {
   "cell_type": "code",
   "execution_count": null,
   "metadata": {
    "collapsed": true
   },
   "outputs": [],
   "source": []
  },
  {
   "cell_type": "code",
   "execution_count": 25,
   "metadata": {
    "collapsed": true
   },
   "outputs": [],
   "source": [
    "################################# Computing by Part #####################################"
   ]
  },
  {
   "cell_type": "code",
   "execution_count": 26,
   "metadata": {
    "collapsed": true
   },
   "outputs": [],
   "source": [
    "## pass the part Indexes and get initial dictionary\n",
    "partDictInitial=getdictionaryWithInitialData(partIndexes)"
   ]
  },
  {
   "cell_type": "code",
   "execution_count": 27,
   "metadata": {
    "collapsed": true
   },
   "outputs": [],
   "source": [
    "## unscrambe the dictionary \n",
    "unscrambleDictPart=unscrambledDictionary(partDictInitial)"
   ]
  },
  {
   "cell_type": "code",
   "execution_count": 28,
   "metadata": {
    "collapsed": true
   },
   "outputs": [],
   "source": [
    "wordsSentencesPart=getFinalOutput(unscrambleDictPart)"
   ]
  },
  {
   "cell_type": "code",
   "execution_count": 29,
   "metadata": {
    "collapsed": false
   },
   "outputs": [
    {
     "name": "stdout",
     "output_type": "stream",
     "text": [
      "key :  PART ONE  Number of elements:  8\n",
      "key :  PART TWO  Number of elements:  7\n",
      "key :  PART THREE  Number of elements:  6\n",
      "key :  PART FOUR  Number of elements:  5\n",
      "key :  PART FIVE  Number of elements:  4\n",
      "key :  PART SIX  Number of elements:  3\n",
      "key :  PART SEVEN  Number of elements:  2\n",
      "key :  PART EIGHT  Number of elements:  1\n"
     ]
    }
   ],
   "source": [
    "for key in partDictInitial:\n",
    "    print(\"key : \",key, \" Number of elements: \",len(partDictInitial[key]))"
   ]
  },
  {
   "cell_type": "code",
   "execution_count": 30,
   "metadata": {
    "collapsed": false
   },
   "outputs": [
    {
     "name": "stdout",
     "output_type": "stream",
     "text": [
      "key :  PART ONE  Number of elements:  8\n",
      "key :  PART TWO  Number of elements:  7\n",
      "key :  PART THREE  Number of elements:  6\n",
      "key :  PART FOUR  Number of elements:  5\n",
      "key :  PART FIVE  Number of elements:  4\n",
      "key :  PART SIX  Number of elements:  3\n",
      "key :  PART SEVEN  Number of elements:  2\n",
      "key :  PART EIGHT  Number of elements:  1\n"
     ]
    }
   ],
   "source": [
    "for key in unscrambleDictPart:\n",
    "    print(\"key : \",key, \" Number of elements: \",len(unscrambleDictPart[key]))"
   ]
  },
  {
   "cell_type": "code",
   "execution_count": 35,
   "metadata": {
    "collapsed": false
   },
   "outputs": [],
   "source": [
    "finalDFByPart=pd.DataFrame(columns=['Part Number','average_word_length','longest_sentence','total_Sentences','unique_words'])\n",
    "for i,item in enumerate(wordsSentencesPart):\n",
    "    tempDF =pd.DataFrame( wordsSentencesPart[item])\n",
    "    tempDF.insert(0,'Part Number',item)\n",
    "    finalDFByPart=pd.concat([finalDFByPart, tempDF]).drop_duplicates()\n",
    "    ## drop_duplicates is used to drop the duplicates as same chapter is present in other Parts , else can be retained \n",
    "\n",
    "finalDFByPart[column_list] = finalDFByPart[column_list].apply(pd.to_numeric, errors='coerce')\n"
   ]
  },
  {
   "cell_type": "code",
   "execution_count": 36,
   "metadata": {
    "collapsed": false
   },
   "outputs": [
    {
     "data": {
      "text/html": [
       "<div>\n",
       "<style scoped>\n",
       "    .dataframe tbody tr th:only-of-type {\n",
       "        vertical-align: middle;\n",
       "    }\n",
       "\n",
       "    .dataframe tbody tr th {\n",
       "        vertical-align: top;\n",
       "    }\n",
       "\n",
       "    .dataframe thead th {\n",
       "        text-align: right;\n",
       "    }\n",
       "</style>\n",
       "<table border=\"1\" class=\"dataframe\">\n",
       "  <thead>\n",
       "    <tr style=\"text-align: right;\">\n",
       "      <th></th>\n",
       "      <th>Part Number</th>\n",
       "      <th>average_word_length</th>\n",
       "      <th>longest_sentence</th>\n",
       "      <th>total_Sentences</th>\n",
       "      <th>unique_words</th>\n",
       "    </tr>\n",
       "  </thead>\n",
       "  <tbody>\n",
       "    <tr>\n",
       "      <th>0</th>\n",
       "      <td>PART ONE</td>\n",
       "      <td>16</td>\n",
       "      <td>117</td>\n",
       "      <td>3009</td>\n",
       "      <td>47548</td>\n",
       "    </tr>\n",
       "    <tr>\n",
       "      <th>1</th>\n",
       "      <td>PART ONE</td>\n",
       "      <td>17</td>\n",
       "      <td>117</td>\n",
       "      <td>3464</td>\n",
       "      <td>56235</td>\n",
       "    </tr>\n",
       "    <tr>\n",
       "      <th>2</th>\n",
       "      <td>PART ONE</td>\n",
       "      <td>18</td>\n",
       "      <td>93</td>\n",
       "      <td>2569</td>\n",
       "      <td>44425</td>\n",
       "    </tr>\n",
       "    <tr>\n",
       "      <th>3</th>\n",
       "      <td>PART ONE</td>\n",
       "      <td>17</td>\n",
       "      <td>85</td>\n",
       "      <td>695</td>\n",
       "      <td>11143</td>\n",
       "    </tr>\n",
       "    <tr>\n",
       "      <th>4</th>\n",
       "      <td>PART ONE</td>\n",
       "      <td>18</td>\n",
       "      <td>93</td>\n",
       "      <td>1411</td>\n",
       "      <td>24715</td>\n",
       "    </tr>\n",
       "    <tr>\n",
       "      <th>5</th>\n",
       "      <td>PART ONE</td>\n",
       "      <td>17</td>\n",
       "      <td>117</td>\n",
       "      <td>2347</td>\n",
       "      <td>39795</td>\n",
       "    </tr>\n",
       "    <tr>\n",
       "      <th>6</th>\n",
       "      <td>PART ONE</td>\n",
       "      <td>16</td>\n",
       "      <td>85</td>\n",
       "      <td>1437</td>\n",
       "      <td>22824</td>\n",
       "    </tr>\n",
       "    <tr>\n",
       "      <th>7</th>\n",
       "      <td>PART ONE</td>\n",
       "      <td>17</td>\n",
       "      <td>87</td>\n",
       "      <td>2595</td>\n",
       "      <td>42338</td>\n",
       "    </tr>\n",
       "    <tr>\n",
       "      <th>0</th>\n",
       "      <td>PART TWO</td>\n",
       "      <td>17</td>\n",
       "      <td>87</td>\n",
       "      <td>2528</td>\n",
       "      <td>40994</td>\n",
       "    </tr>\n",
       "    <tr>\n",
       "      <th>1</th>\n",
       "      <td>PART TWO</td>\n",
       "      <td>15</td>\n",
       "      <td>50</td>\n",
       "      <td>65</td>\n",
       "      <td>963</td>\n",
       "    </tr>\n",
       "  </tbody>\n",
       "</table>\n",
       "</div>"
      ],
      "text/plain": [
       "  Part Number  average_word_length  longest_sentence  total_Sentences  \\\n",
       "0    PART ONE                   16               117             3009   \n",
       "1    PART ONE                   17               117             3464   \n",
       "2    PART ONE                   18                93             2569   \n",
       "3    PART ONE                   17                85              695   \n",
       "4    PART ONE                   18                93             1411   \n",
       "5    PART ONE                   17               117             2347   \n",
       "6    PART ONE                   16                85             1437   \n",
       "7    PART ONE                   17                87             2595   \n",
       "0    PART TWO                   17                87             2528   \n",
       "1    PART TWO                   15                50               65   \n",
       "\n",
       "   unique_words  \n",
       "0         47548  \n",
       "1         56235  \n",
       "2         44425  \n",
       "3         11143  \n",
       "4         24715  \n",
       "5         39795  \n",
       "6         22824  \n",
       "7         42338  \n",
       "0         40994  \n",
       "1           963  "
      ]
     },
     "execution_count": 36,
     "metadata": {},
     "output_type": "execute_result"
    }
   ],
   "source": [
    "finalDFByPart.head(10)"
   ]
  },
  {
   "cell_type": "code",
   "execution_count": 39,
   "metadata": {
    "collapsed": false
   },
   "outputs": [
    {
     "data": {
      "text/html": [
       "<div>\n",
       "<style scoped>\n",
       "    .dataframe tbody tr th:only-of-type {\n",
       "        vertical-align: middle;\n",
       "    }\n",
       "\n",
       "    .dataframe tbody tr th {\n",
       "        vertical-align: top;\n",
       "    }\n",
       "\n",
       "    .dataframe thead th {\n",
       "        text-align: right;\n",
       "    }\n",
       "</style>\n",
       "<table border=\"1\" class=\"dataframe\">\n",
       "  <thead>\n",
       "    <tr style=\"text-align: right;\">\n",
       "      <th></th>\n",
       "      <th>average_word_length</th>\n",
       "      <th>total_Sentences</th>\n",
       "      <th>longest_sentence</th>\n",
       "      <th>unique_words</th>\n",
       "    </tr>\n",
       "    <tr>\n",
       "      <th>Part Number</th>\n",
       "      <th></th>\n",
       "      <th></th>\n",
       "      <th></th>\n",
       "      <th></th>\n",
       "    </tr>\n",
       "  </thead>\n",
       "  <tbody>\n",
       "    <tr>\n",
       "      <th>PART EIGHT</th>\n",
       "      <td>16.000000</td>\n",
       "      <td>807</td>\n",
       "      <td>63</td>\n",
       "      <td>12818.000000</td>\n",
       "    </tr>\n",
       "    <tr>\n",
       "      <th>PART FIVE</th>\n",
       "      <td>16.500000</td>\n",
       "      <td>6192</td>\n",
       "      <td>83</td>\n",
       "      <td>26041.500000</td>\n",
       "    </tr>\n",
       "    <tr>\n",
       "      <th>PART FOUR</th>\n",
       "      <td>16.800000</td>\n",
       "      <td>16988</td>\n",
       "      <td>117</td>\n",
       "      <td>56013.200000</td>\n",
       "    </tr>\n",
       "    <tr>\n",
       "      <th>PART ONE</th>\n",
       "      <td>17.000000</td>\n",
       "      <td>17527</td>\n",
       "      <td>117</td>\n",
       "      <td>36127.875000</td>\n",
       "    </tr>\n",
       "    <tr>\n",
       "      <th>PART SEVEN</th>\n",
       "      <td>17.000000</td>\n",
       "      <td>9927</td>\n",
       "      <td>131</td>\n",
       "      <td>84692.500000</td>\n",
       "    </tr>\n",
       "    <tr>\n",
       "      <th>PART SIX</th>\n",
       "      <td>16.666667</td>\n",
       "      <td>15402</td>\n",
       "      <td>131</td>\n",
       "      <td>83786.333333</td>\n",
       "    </tr>\n",
       "    <tr>\n",
       "      <th>PART THREE</th>\n",
       "      <td>17.500000</td>\n",
       "      <td>12031</td>\n",
       "      <td>131</td>\n",
       "      <td>34301.666667</td>\n",
       "    </tr>\n",
       "    <tr>\n",
       "      <th>PART TWO</th>\n",
       "      <td>16.857143</td>\n",
       "      <td>18539</td>\n",
       "      <td>131</td>\n",
       "      <td>44399.571429</td>\n",
       "    </tr>\n",
       "  </tbody>\n",
       "</table>\n",
       "</div>"
      ],
      "text/plain": [
       "             average_word_length  total_Sentences  longest_sentence  \\\n",
       "Part Number                                                           \n",
       "PART EIGHT             16.000000              807                63   \n",
       "PART FIVE              16.500000             6192                83   \n",
       "PART FOUR              16.800000            16988               117   \n",
       "PART ONE               17.000000            17527               117   \n",
       "PART SEVEN             17.000000             9927               131   \n",
       "PART SIX               16.666667            15402               131   \n",
       "PART THREE             17.500000            12031               131   \n",
       "PART TWO               16.857143            18539               131   \n",
       "\n",
       "             unique_words  \n",
       "Part Number                \n",
       "PART EIGHT   12818.000000  \n",
       "PART FIVE    26041.500000  \n",
       "PART FOUR    56013.200000  \n",
       "PART ONE     36127.875000  \n",
       "PART SEVEN   84692.500000  \n",
       "PART SIX     83786.333333  \n",
       "PART THREE   34301.666667  \n",
       "PART TWO     44399.571429  "
      ]
     },
     "execution_count": 39,
     "metadata": {},
     "output_type": "execute_result"
    }
   ],
   "source": [
    "finalDFByPart.groupby(['Part Number']).agg({'average_word_length':'mean', 'total_Sentences':'sum','longest_sentence':'max','unique_words':'mean'})"
   ]
  },
  {
   "cell_type": "code",
   "execution_count": 56,
   "metadata": {
    "collapsed": false
   },
   "outputs": [],
   "source": [
    "\n",
    "yd=finalDFByPart.groupby(['Part Number']).agg({'average_word_length':'mean', 'total_Sentences':'sum','longest_sentence':'max','unique_words':'mean'})\n",
    "yd['Part Number'] = yd.index "
   ]
  },
  {
   "cell_type": "code",
   "execution_count": 64,
   "metadata": {
    "collapsed": false
   },
   "outputs": [
    {
     "data": {
      "text/plain": [
       "<matplotlib.axes._subplots.AxesSubplot at 0x1250fd6d8>"
      ]
     },
     "execution_count": 64,
     "metadata": {},
     "output_type": "execute_result"
    },
    {
     "data": {
      "image/png": "[encoded data removed]",
      "text/plain": [
       "<Figure size 720x360 with 1 Axes>"
      ]
     },
     "metadata": {
      "needs_background": "light"
     },
     "output_type": "display_data"
    }
   ],
   "source": [
    "fig, ax = plt.subplots(figsize=(10,5))\n",
    "\n",
    "yd.plot(x='Part Number' , y=['average_word_length','longest_sentence','total_Sentences','unique_words'], kind=\"bar\",stacked=True,ax=ax)"
   ]
  },
  {
   "cell_type": "code",
   "execution_count": 59,
   "metadata": {
    "collapsed": true
   },
   "outputs": [],
   "source": []
  },
  {
   "cell_type": "code",
   "execution_count": null,
   "metadata": {
    "collapsed": true
   },
   "outputs": [],
   "source": []
  }
 ],
 "metadata": {
  "anaconda-cloud": {},
  "kernelspec": {
   "display_name": "Python 3",
   "language": "python",
   "name": "python3"
  },
  "language_info": {
   "codemirror_mode": {
    "name": "ipython",
    "version": 3
   },
   "file_extension": ".py",
   "mimetype": "text/x-python",
   "name": "python",
   "nbconvert_exporter": "python",
   "pygments_lexer": "ipython3",
   "version": "3.7.3"
  }
 },
 "nbformat": 4,
 "nbformat_minor": 1
}
